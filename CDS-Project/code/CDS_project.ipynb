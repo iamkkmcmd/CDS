{
 "cells": [
  {
   "cell_type": "markdown",
   "id": "statewide-bouquet",
   "metadata": {},
   "source": [
    "Import Libraries"
   ]
  },
  {
   "cell_type": "code",
   "execution_count": 1,
   "id": "surprising-police",
   "metadata": {},
   "outputs": [],
   "source": [
    "# import some basic modules\n",
    "import os, sys, time, copy\n",
    "# import modules to print progress bar\n",
    "from tqdm.notebook import tqdm\n",
    "\n",
    "# import basic data manipulation modules\n",
    "import numpy as np\n",
    "import pandas as pd\n",
    "import matplotlib.pyplot as plt\n",
    "import seaborn as sns\n",
    "\n",
    "# torch, dataloader, nn, loss funciton, optimizer\n",
    "import torch\n",
    "from torch.utils.data import Dataset, DataLoader, WeightedRandomSampler\n",
    "import torch.nn as nn\n",
    "from torch.nn import CrossEntropyLoss\n",
    "import torch.optim as optim\n",
    "\n",
    "# preprocessing, train_test_split, report stuff\n",
    "from sklearn import preprocessing\n",
    "from sklearn.model_selection import train_test_split\n",
    "from sklearn.metrics import confusion_matrix, classification_report"
   ]
  },
  {
   "cell_type": "markdown",
   "id": "acceptable-manchester",
   "metadata": {},
   "source": [
    "Source: https://archive.ics.uci.edu/ml/datasets/wine+quality"
   ]
  },
  {
   "cell_type": "markdown",
   "id": "productive-philosophy",
   "metadata": {},
   "source": [
    "Data Description"
   ]
  },
  {
   "cell_type": "code",
   "execution_count": 2,
   "id": "encouraging-junction",
   "metadata": {},
   "outputs": [],
   "source": [
    "# with open('./../data/winequality.names') as file:\n",
    "#     print(file.read())"
   ]
  },
  {
   "cell_type": "markdown",
   "id": "moral-neighborhood",
   "metadata": {},
   "source": [
    "- Input variables (based on physicochemical tests):\n",
    "  - 1 - fixed acidity\n",
    "  - 2 - volatile acidity\n",
    "  - 3 - citric acid\n",
    "  - 4 - residual sugar\n",
    "  - 5 - chlorides\n",
    "  - 6 - free sulfur dioxide\n",
    "  - 7 - total sulfur dioxide\n",
    "  - 8 - density\n",
    "  - 9 - pH\n",
    "  - 10 - sulphates\n",
    "  - 11 - alcohol\n",
    "- Output variable (based on sensory data): \n",
    "  - 12 - quality (score between 0 and 10)"
   ]
  },
  {
   "cell_type": "markdown",
   "id": "encouraging-briefs",
   "metadata": {},
   "source": [
    "Objective"
   ]
  },
  {
   "cell_type": "markdown",
   "id": "bulgarian-auditor",
   "metadata": {},
   "source": [
    "Predict wine quality i.e. it is a classification problem."
   ]
  },
  {
   "cell_type": "code",
   "execution_count": 3,
   "id": "compressed-survival",
   "metadata": {},
   "outputs": [
    {
     "data": {
      "text/html": [
       "<div>\n",
       "<style scoped>\n",
       "    .dataframe tbody tr th:only-of-type {\n",
       "        vertical-align: middle;\n",
       "    }\n",
       "\n",
       "    .dataframe tbody tr th {\n",
       "        vertical-align: top;\n",
       "    }\n",
       "\n",
       "    .dataframe thead th {\n",
       "        text-align: right;\n",
       "    }\n",
       "</style>\n",
       "<table border=\"1\" class=\"dataframe\">\n",
       "  <thead>\n",
       "    <tr style=\"text-align: right;\">\n",
       "      <th></th>\n",
       "      <th>fixed acidity</th>\n",
       "      <th>volatile acidity</th>\n",
       "      <th>citric acid</th>\n",
       "      <th>residual sugar</th>\n",
       "      <th>chlorides</th>\n",
       "      <th>free sulfur dioxide</th>\n",
       "      <th>total sulfur dioxide</th>\n",
       "      <th>density</th>\n",
       "      <th>pH</th>\n",
       "      <th>sulphates</th>\n",
       "      <th>alcohol</th>\n",
       "      <th>quality</th>\n",
       "      <th>wine_type</th>\n",
       "    </tr>\n",
       "  </thead>\n",
       "  <tbody>\n",
       "    <tr>\n",
       "      <th>0</th>\n",
       "      <td>7.0</td>\n",
       "      <td>0.27</td>\n",
       "      <td>0.36</td>\n",
       "      <td>20.7</td>\n",
       "      <td>0.045</td>\n",
       "      <td>45.0</td>\n",
       "      <td>170.0</td>\n",
       "      <td>1.0010</td>\n",
       "      <td>3.00</td>\n",
       "      <td>0.45</td>\n",
       "      <td>8.8</td>\n",
       "      <td>6</td>\n",
       "      <td>white</td>\n",
       "    </tr>\n",
       "    <tr>\n",
       "      <th>1</th>\n",
       "      <td>6.3</td>\n",
       "      <td>0.30</td>\n",
       "      <td>0.34</td>\n",
       "      <td>1.6</td>\n",
       "      <td>0.049</td>\n",
       "      <td>14.0</td>\n",
       "      <td>132.0</td>\n",
       "      <td>0.9940</td>\n",
       "      <td>3.30</td>\n",
       "      <td>0.49</td>\n",
       "      <td>9.5</td>\n",
       "      <td>6</td>\n",
       "      <td>white</td>\n",
       "    </tr>\n",
       "    <tr>\n",
       "      <th>2</th>\n",
       "      <td>8.1</td>\n",
       "      <td>0.28</td>\n",
       "      <td>0.40</td>\n",
       "      <td>6.9</td>\n",
       "      <td>0.050</td>\n",
       "      <td>30.0</td>\n",
       "      <td>97.0</td>\n",
       "      <td>0.9951</td>\n",
       "      <td>3.26</td>\n",
       "      <td>0.44</td>\n",
       "      <td>10.1</td>\n",
       "      <td>6</td>\n",
       "      <td>white</td>\n",
       "    </tr>\n",
       "    <tr>\n",
       "      <th>3</th>\n",
       "      <td>7.2</td>\n",
       "      <td>0.23</td>\n",
       "      <td>0.32</td>\n",
       "      <td>8.5</td>\n",
       "      <td>0.058</td>\n",
       "      <td>47.0</td>\n",
       "      <td>186.0</td>\n",
       "      <td>0.9956</td>\n",
       "      <td>3.19</td>\n",
       "      <td>0.40</td>\n",
       "      <td>9.9</td>\n",
       "      <td>6</td>\n",
       "      <td>white</td>\n",
       "    </tr>\n",
       "    <tr>\n",
       "      <th>4</th>\n",
       "      <td>7.2</td>\n",
       "      <td>0.23</td>\n",
       "      <td>0.32</td>\n",
       "      <td>8.5</td>\n",
       "      <td>0.058</td>\n",
       "      <td>47.0</td>\n",
       "      <td>186.0</td>\n",
       "      <td>0.9956</td>\n",
       "      <td>3.19</td>\n",
       "      <td>0.40</td>\n",
       "      <td>9.9</td>\n",
       "      <td>6</td>\n",
       "      <td>white</td>\n",
       "    </tr>\n",
       "  </tbody>\n",
       "</table>\n",
       "</div>"
      ],
      "text/plain": [
       "   fixed acidity  volatile acidity  citric acid  residual sugar  chlorides  \\\n",
       "0            7.0              0.27         0.36            20.7      0.045   \n",
       "1            6.3              0.30         0.34             1.6      0.049   \n",
       "2            8.1              0.28         0.40             6.9      0.050   \n",
       "3            7.2              0.23         0.32             8.5      0.058   \n",
       "4            7.2              0.23         0.32             8.5      0.058   \n",
       "\n",
       "   free sulfur dioxide  total sulfur dioxide  density    pH  sulphates  \\\n",
       "0                 45.0                 170.0   1.0010  3.00       0.45   \n",
       "1                 14.0                 132.0   0.9940  3.30       0.49   \n",
       "2                 30.0                  97.0   0.9951  3.26       0.44   \n",
       "3                 47.0                 186.0   0.9956  3.19       0.40   \n",
       "4                 47.0                 186.0   0.9956  3.19       0.40   \n",
       "\n",
       "   alcohol  quality wine_type  \n",
       "0      8.8        6     white  \n",
       "1      9.5        6     white  \n",
       "2     10.1        6     white  \n",
       "3      9.9        6     white  \n",
       "4      9.9        6     white  "
      ]
     },
     "execution_count": 3,
     "metadata": {},
     "output_type": "execute_result"
    }
   ],
   "source": [
    "# load the data\n",
    "white_wine = pd.read_csv('https://raw.githubusercontent.com/iamkkmcmd/CDS/master/CDS-Project/data/winequality-white.csv', sep = ';', header = [0])\n",
    "red_wine = pd.read_csv('https://raw.githubusercontent.com/iamkkmcmd/CDS/master/CDS-Project/data/winequality-red.csv', sep = ';', header = [0])\n",
    "data = pd.concat([white_wine, red_wine])\n",
    "data['wine_type'] = np.repeat(['white', 'red'], [white_wine.shape[0], red_wine.shape[0]])\n",
    "data.head()"
   ]
  },
  {
   "cell_type": "code",
   "execution_count": 4,
   "id": "quick-prior",
   "metadata": {},
   "outputs": [],
   "source": [
    "encoder = preprocessing.LabelEncoder()\n",
    "data.wine_type = encoder.fit_transform(data.wine_type) \n",
    "# Labels: 1 represent white wine and 0 represent red wine"
   ]
  },
  {
   "cell_type": "markdown",
   "id": "loved-potato",
   "metadata": {},
   "source": [
    "Data Dimention"
   ]
  },
  {
   "cell_type": "code",
   "execution_count": 5,
   "id": "handled-debut",
   "metadata": {},
   "outputs": [
    {
     "name": "stdout",
     "output_type": "stream",
     "text": [
      "Total number of observation: 6497\n",
      "Total number of variables: 13\n"
     ]
    }
   ],
   "source": [
    "print('Total number of observation: {}'.format(data.shape[0]))\n",
    "print('Total number of variables: {}'.format(data.shape[1]))"
   ]
  },
  {
   "cell_type": "markdown",
   "id": "apparent-reaction",
   "metadata": {},
   "source": [
    "Data types of variables"
   ]
  },
  {
   "cell_type": "code",
   "execution_count": 6,
   "id": "brief-adobe",
   "metadata": {},
   "outputs": [
    {
     "data": {
      "text/plain": [
       "{dtype('int64'), dtype('float64')}"
      ]
     },
     "execution_count": 6,
     "metadata": {},
     "output_type": "execute_result"
    }
   ],
   "source": [
    "set(data.dtypes) \n",
    "# wine.nunique() # to calculate number of unique value in each column"
   ]
  },
  {
   "cell_type": "markdown",
   "id": "right-dispatch",
   "metadata": {},
   "source": [
    "Checking NA and Missing value"
   ]
  },
  {
   "cell_type": "code",
   "execution_count": 7,
   "id": "dying-custom",
   "metadata": {},
   "outputs": [
    {
     "name": "stdout",
     "output_type": "stream",
     "text": [
      "Total number of NA values in the dataset: 0\n",
      "Total number of missing values in the dataset: 0\n"
     ]
    }
   ],
   "source": [
    "# data.columns[data.isna().sum() != 0] # data.columns[data.isna().any()]\n",
    "print('Total number of NA values in the dataset: {}'.format(np.sum(data.isna()).sum()))\n",
    "print('Total number of missing values in the dataset: {}'.format(np.sum(data.isnull()).sum()))"
   ]
  },
  {
   "cell_type": "markdown",
   "id": "monthly-production",
   "metadata": {},
   "source": [
    "Description of the data"
   ]
  },
  {
   "cell_type": "code",
   "execution_count": 8,
   "id": "scientific-stuff",
   "metadata": {},
   "outputs": [
    {
     "data": {
      "text/html": [
       "<div>\n",
       "<style scoped>\n",
       "    .dataframe tbody tr th:only-of-type {\n",
       "        vertical-align: middle;\n",
       "    }\n",
       "\n",
       "    .dataframe tbody tr th {\n",
       "        vertical-align: top;\n",
       "    }\n",
       "\n",
       "    .dataframe thead th {\n",
       "        text-align: right;\n",
       "    }\n",
       "</style>\n",
       "<table border=\"1\" class=\"dataframe\">\n",
       "  <thead>\n",
       "    <tr style=\"text-align: right;\">\n",
       "      <th></th>\n",
       "      <th>fixed acidity</th>\n",
       "      <th>volatile acidity</th>\n",
       "      <th>citric acid</th>\n",
       "      <th>residual sugar</th>\n",
       "      <th>chlorides</th>\n",
       "      <th>free sulfur dioxide</th>\n",
       "      <th>total sulfur dioxide</th>\n",
       "      <th>density</th>\n",
       "      <th>pH</th>\n",
       "      <th>sulphates</th>\n",
       "      <th>alcohol</th>\n",
       "      <th>quality</th>\n",
       "      <th>wine_type</th>\n",
       "    </tr>\n",
       "  </thead>\n",
       "  <tbody>\n",
       "    <tr>\n",
       "      <th>count</th>\n",
       "      <td>6497.000000</td>\n",
       "      <td>6497.000000</td>\n",
       "      <td>6497.000000</td>\n",
       "      <td>6497.000000</td>\n",
       "      <td>6497.000000</td>\n",
       "      <td>6497.000000</td>\n",
       "      <td>6497.000000</td>\n",
       "      <td>6497.000000</td>\n",
       "      <td>6497.000000</td>\n",
       "      <td>6497.000000</td>\n",
       "      <td>6497.000000</td>\n",
       "      <td>6497.000000</td>\n",
       "      <td>6497.000000</td>\n",
       "    </tr>\n",
       "    <tr>\n",
       "      <th>mean</th>\n",
       "      <td>7.215307</td>\n",
       "      <td>0.339666</td>\n",
       "      <td>0.318633</td>\n",
       "      <td>5.443235</td>\n",
       "      <td>0.056034</td>\n",
       "      <td>30.525319</td>\n",
       "      <td>115.744574</td>\n",
       "      <td>0.994697</td>\n",
       "      <td>3.218501</td>\n",
       "      <td>0.531268</td>\n",
       "      <td>10.491801</td>\n",
       "      <td>5.818378</td>\n",
       "      <td>0.753886</td>\n",
       "    </tr>\n",
       "    <tr>\n",
       "      <th>std</th>\n",
       "      <td>1.296434</td>\n",
       "      <td>0.164636</td>\n",
       "      <td>0.145318</td>\n",
       "      <td>4.757804</td>\n",
       "      <td>0.035034</td>\n",
       "      <td>17.749400</td>\n",
       "      <td>56.521855</td>\n",
       "      <td>0.002999</td>\n",
       "      <td>0.160787</td>\n",
       "      <td>0.148806</td>\n",
       "      <td>1.192712</td>\n",
       "      <td>0.873255</td>\n",
       "      <td>0.430779</td>\n",
       "    </tr>\n",
       "    <tr>\n",
       "      <th>min</th>\n",
       "      <td>3.800000</td>\n",
       "      <td>0.080000</td>\n",
       "      <td>0.000000</td>\n",
       "      <td>0.600000</td>\n",
       "      <td>0.009000</td>\n",
       "      <td>1.000000</td>\n",
       "      <td>6.000000</td>\n",
       "      <td>0.987110</td>\n",
       "      <td>2.720000</td>\n",
       "      <td>0.220000</td>\n",
       "      <td>8.000000</td>\n",
       "      <td>3.000000</td>\n",
       "      <td>0.000000</td>\n",
       "    </tr>\n",
       "    <tr>\n",
       "      <th>25%</th>\n",
       "      <td>6.400000</td>\n",
       "      <td>0.230000</td>\n",
       "      <td>0.250000</td>\n",
       "      <td>1.800000</td>\n",
       "      <td>0.038000</td>\n",
       "      <td>17.000000</td>\n",
       "      <td>77.000000</td>\n",
       "      <td>0.992340</td>\n",
       "      <td>3.110000</td>\n",
       "      <td>0.430000</td>\n",
       "      <td>9.500000</td>\n",
       "      <td>5.000000</td>\n",
       "      <td>1.000000</td>\n",
       "    </tr>\n",
       "    <tr>\n",
       "      <th>50%</th>\n",
       "      <td>7.000000</td>\n",
       "      <td>0.290000</td>\n",
       "      <td>0.310000</td>\n",
       "      <td>3.000000</td>\n",
       "      <td>0.047000</td>\n",
       "      <td>29.000000</td>\n",
       "      <td>118.000000</td>\n",
       "      <td>0.994890</td>\n",
       "      <td>3.210000</td>\n",
       "      <td>0.510000</td>\n",
       "      <td>10.300000</td>\n",
       "      <td>6.000000</td>\n",
       "      <td>1.000000</td>\n",
       "    </tr>\n",
       "    <tr>\n",
       "      <th>75%</th>\n",
       "      <td>7.700000</td>\n",
       "      <td>0.400000</td>\n",
       "      <td>0.390000</td>\n",
       "      <td>8.100000</td>\n",
       "      <td>0.065000</td>\n",
       "      <td>41.000000</td>\n",
       "      <td>156.000000</td>\n",
       "      <td>0.996990</td>\n",
       "      <td>3.320000</td>\n",
       "      <td>0.600000</td>\n",
       "      <td>11.300000</td>\n",
       "      <td>6.000000</td>\n",
       "      <td>1.000000</td>\n",
       "    </tr>\n",
       "    <tr>\n",
       "      <th>max</th>\n",
       "      <td>15.900000</td>\n",
       "      <td>1.580000</td>\n",
       "      <td>1.660000</td>\n",
       "      <td>65.800000</td>\n",
       "      <td>0.611000</td>\n",
       "      <td>289.000000</td>\n",
       "      <td>440.000000</td>\n",
       "      <td>1.038980</td>\n",
       "      <td>4.010000</td>\n",
       "      <td>2.000000</td>\n",
       "      <td>14.900000</td>\n",
       "      <td>9.000000</td>\n",
       "      <td>1.000000</td>\n",
       "    </tr>\n",
       "  </tbody>\n",
       "</table>\n",
       "</div>"
      ],
      "text/plain": [
       "       fixed acidity  volatile acidity  citric acid  residual sugar  \\\n",
       "count    6497.000000       6497.000000  6497.000000     6497.000000   \n",
       "mean        7.215307          0.339666     0.318633        5.443235   \n",
       "std         1.296434          0.164636     0.145318        4.757804   \n",
       "min         3.800000          0.080000     0.000000        0.600000   \n",
       "25%         6.400000          0.230000     0.250000        1.800000   \n",
       "50%         7.000000          0.290000     0.310000        3.000000   \n",
       "75%         7.700000          0.400000     0.390000        8.100000   \n",
       "max        15.900000          1.580000     1.660000       65.800000   \n",
       "\n",
       "         chlorides  free sulfur dioxide  total sulfur dioxide      density  \\\n",
       "count  6497.000000          6497.000000           6497.000000  6497.000000   \n",
       "mean      0.056034            30.525319            115.744574     0.994697   \n",
       "std       0.035034            17.749400             56.521855     0.002999   \n",
       "min       0.009000             1.000000              6.000000     0.987110   \n",
       "25%       0.038000            17.000000             77.000000     0.992340   \n",
       "50%       0.047000            29.000000            118.000000     0.994890   \n",
       "75%       0.065000            41.000000            156.000000     0.996990   \n",
       "max       0.611000           289.000000            440.000000     1.038980   \n",
       "\n",
       "                pH    sulphates      alcohol      quality    wine_type  \n",
       "count  6497.000000  6497.000000  6497.000000  6497.000000  6497.000000  \n",
       "mean      3.218501     0.531268    10.491801     5.818378     0.753886  \n",
       "std       0.160787     0.148806     1.192712     0.873255     0.430779  \n",
       "min       2.720000     0.220000     8.000000     3.000000     0.000000  \n",
       "25%       3.110000     0.430000     9.500000     5.000000     1.000000  \n",
       "50%       3.210000     0.510000    10.300000     6.000000     1.000000  \n",
       "75%       3.320000     0.600000    11.300000     6.000000     1.000000  \n",
       "max       4.010000     2.000000    14.900000     9.000000     1.000000  "
      ]
     },
     "execution_count": 8,
     "metadata": {},
     "output_type": "execute_result"
    }
   ],
   "source": [
    "data.describe()"
   ]
  },
  {
   "cell_type": "code",
   "execution_count": 9,
   "id": "emotional-comfort",
   "metadata": {},
   "outputs": [
    {
     "data": {
      "image/png": "[encoded data removed]",
      "text/plain": [
       "<Figure size 1152x648 with 2 Axes>"
      ]
     },
     "metadata": {
      "needs_background": "light"
     },
     "output_type": "display_data"
    }
   ],
   "source": [
    "plt.figure(figsize = (16,9))\n",
    "cor = data.corr()\n",
    "sns.heatmap(cor, annot = True); plt.title('Correlation plot');"
   ]
  },
  {
   "cell_type": "code",
   "execution_count": 10,
   "id": "entertaining-programmer",
   "metadata": {},
   "outputs": [],
   "source": [
    "pair_corr = pd.DataFrame(cor.unstack(), columns = ['cor'])"
   ]
  },
  {
   "cell_type": "code",
   "execution_count": 11,
   "id": "accredited-mention",
   "metadata": {},
   "outputs": [
    {
     "data": {
      "text/html": [
       "<div>\n",
       "<style scoped>\n",
       "    .dataframe tbody tr th:only-of-type {\n",
       "        vertical-align: middle;\n",
       "    }\n",
       "\n",
       "    .dataframe tbody tr th {\n",
       "        vertical-align: top;\n",
       "    }\n",
       "\n",
       "    .dataframe thead th {\n",
       "        text-align: right;\n",
       "    }\n",
       "</style>\n",
       "<table border=\"1\" class=\"dataframe\">\n",
       "  <thead>\n",
       "    <tr style=\"text-align: right;\">\n",
       "      <th></th>\n",
       "      <th></th>\n",
       "      <th>cor</th>\n",
       "    </tr>\n",
       "  </thead>\n",
       "  <tbody>\n",
       "    <tr>\n",
       "      <th>volatile acidity</th>\n",
       "      <th>wine_type</th>\n",
       "      <td>-0.653036</td>\n",
       "    </tr>\n",
       "    <tr>\n",
       "      <th>density</th>\n",
       "      <th>alcohol</th>\n",
       "      <td>-0.686745</td>\n",
       "    </tr>\n",
       "    <tr>\n",
       "      <th>alcohol</th>\n",
       "      <th>density</th>\n",
       "      <td>-0.686745</td>\n",
       "    </tr>\n",
       "    <tr>\n",
       "      <th>wine_type</th>\n",
       "      <th>volatile acidity</th>\n",
       "      <td>-0.653036</td>\n",
       "    </tr>\n",
       "  </tbody>\n",
       "</table>\n",
       "</div>"
      ],
      "text/plain": [
       "                                        cor\n",
       "volatile acidity wine_type        -0.653036\n",
       "density          alcohol          -0.686745\n",
       "alcohol          density          -0.686745\n",
       "wine_type        volatile acidity -0.653036"
      ]
     },
     "execution_count": 11,
     "metadata": {},
     "output_type": "execute_result"
    }
   ],
   "source": [
    "pair_corr[((pair_corr['cor'] > -0.6) | (pair_corr['cor'] > 0.6)) & pair_corr['cor'] != 1]"
   ]
  },
  {
   "cell_type": "code",
   "execution_count": 12,
   "id": "seeing-publication",
   "metadata": {},
   "outputs": [
    {
     "data": {
      "image/png": "[encoded data removed]",
      "text/plain": [
       "<Figure size 1080x216 with 2 Axes>"
      ]
     },
     "metadata": {
      "needs_background": "light"
     },
     "output_type": "display_data"
    }
   ],
   "source": [
    "fig, ax = plt.subplots(1,2, figsize = (15,3))\n",
    "sns.countplot(x = 'quality', data = data, palette = 'Set1', ax = ax[0])\n",
    "sns.countplot(x = 'wine_type', data = data, palette = 'Set1', ax = ax[1]);"
   ]
  },
  {
   "cell_type": "code",
   "execution_count": 13,
   "id": "arbitrary-conclusion",
   "metadata": {},
   "outputs": [
    {
     "data": {
      "image/png": "[encoded data removed]",
      "text/plain": [
       "<Figure size 720x216 with 3 Axes>"
      ]
     },
     "metadata": {
      "needs_background": "light"
     },
     "output_type": "display_data"
    }
   ],
   "source": [
    "fig, ax = plt.subplots(1,3, figsize = (10,3))\n",
    "ax[0].bar(data.quality.value_counts().index, data.quality.value_counts())\n",
    "ax[0].set_title('Bar plot of quality of wine')\n",
    "ax[0].set_xlabel('Quality'); ax[0].set_ylabel('Count');\n",
    "df1 = pd.crosstab(data.quality, data.wine_type)\n",
    "ax[1].bar(df1.index, df1[1], color = '#bab8b8')\n",
    "ax[1].bar(df1.index, df1[0], bottom = df1[1], color = 'r')\n",
    "ax[1].legend(['White','Red'])\n",
    "ax[1].set_title('Bar plot of quality of wine')\n",
    "ax[1].set_xlabel('Quality'); ax[1].set_ylabel('Count');"
   ]
  },
  {
   "cell_type": "markdown",
   "id": "attached-estate",
   "metadata": {},
   "source": [
    "As pytorch supports label starting from 0, then we need to map the class label from 3:8 to 0:6 respectively."
   ]
  },
  {
   "cell_type": "code",
   "execution_count": 14,
   "id": "human-salmon",
   "metadata": {},
   "outputs": [],
   "source": [
    "# encode output class\n",
    "class2idx = {i:j for (i,j) in zip([3,4,5,6,7,8,9],[0,1,2,3,4,5,6])}\n",
    "data.quality.replace(class2idx, inplace = True)"
   ]
  },
  {
   "cell_type": "code",
   "execution_count": 15,
   "id": "amended-giving",
   "metadata": {},
   "outputs": [],
   "source": [
    "# create input and output data\n",
    "y = data.quality\n",
    "X = data.drop(['quality'], axis = 1)"
   ]
  },
  {
   "cell_type": "markdown",
   "id": "wooden-elite",
   "metadata": {},
   "source": [
    "From the above bar chart clearly classes are imbalance. So, to make equally distributed classes stratified sampling can be done."
   ]
  },
  {
   "cell_type": "markdown",
   "id": "italic-encounter",
   "metadata": {},
   "source": [
    "First test set is separated and then train and validation dataset is splitted from train_val data. Splitting percentage: 80-10-20 (train, validation, test)"
   ]
  },
  {
   "cell_type": "code",
   "execution_count": 16,
   "id": "familiar-belly",
   "metadata": {},
   "outputs": [],
   "source": [
    "X_train_val, X_test, y_train_val, y_test = train_test_split(X, y, test_size = 0.20, shuffle=True, stratify=y)\n",
    "X_train, X_val, y_train, y_val = train_test_split(X_train_val, y_train_val, test_size=0.10, shuffle = True, stratify=y_train_val)"
   ]
  },
  {
   "cell_type": "code",
   "execution_count": 17,
   "id": "sorted-maker",
   "metadata": {},
   "outputs": [
    {
     "name": "stdout",
     "output_type": "stream",
     "text": [
      "Shape of train dataset: (4677, 12) and target data: (4677,)\n",
      "Shape of validation dataset: (520, 12) and target data: (520,)\n",
      "Shape of test dataset: (1300, 12) and target data: (1300,)\n"
     ]
    }
   ],
   "source": [
    "print('Shape of train dataset: {} and target data: {}'.format(X_train.shape, y_train.shape))\n",
    "print('Shape of validation dataset: {} and target data: {}'.format(X_val.shape, y_val.shape))\n",
    "print('Shape of test dataset: {} and target data: {}'.format(X_test.shape, y_test.shape))"
   ]
  },
  {
   "cell_type": "markdown",
   "id": "sweet-hampton",
   "metadata": {},
   "source": [
    "Data normalization is very much needed to scale down to make unit free value for each feature."
   ]
  },
  {
   "cell_type": "code",
   "execution_count": 18,
   "id": "opposed-adrian",
   "metadata": {},
   "outputs": [],
   "source": [
    "normalizer = preprocessing.Normalizer()\n",
    "X_train = normalizer.fit_transform(X_train)\n",
    "X_val = normalizer.transform(X_val)\n",
    "X_test = normalizer.transform(X_test)"
   ]
  },
  {
   "cell_type": "markdown",
   "id": "random-phone",
   "metadata": {},
   "source": [
    "Convert everything to array."
   ]
  },
  {
   "cell_type": "code",
   "execution_count": 19,
   "id": "liked-sword",
   "metadata": {},
   "outputs": [],
   "source": [
    "X_train, y_train = np.array(X_train), np.array(y_train)\n",
    "X_val, y_val = np.array(X_val), np.array(y_val)\n",
    "X_test, y_test = np.array(X_test), np.array(y_test)"
   ]
  },
  {
   "cell_type": "markdown",
   "id": "intelligent-devon",
   "metadata": {},
   "source": [
    "Class distribution for train, validation and test dataset."
   ]
  },
  {
   "cell_type": "code",
   "execution_count": 20,
   "id": "liked-screw",
   "metadata": {},
   "outputs": [],
   "source": [
    "def class_distribution(arr):\n",
    "    label, count = np.unique(arr, return_counts=True)\n",
    "    return {i:j for (i,j) in zip(label, count/count.sum())}"
   ]
  },
  {
   "cell_type": "code",
   "execution_count": 21,
   "id": "regulation-whole",
   "metadata": {},
   "outputs": [
    {
     "data": {
      "image/png": "[encoded data removed]",
      "text/plain": [
       "<Figure size 1080x216 with 3 Axes>"
      ]
     },
     "metadata": {
      "needs_background": "light"
     },
     "output_type": "display_data"
    }
   ],
   "source": [
    "f, ax = plt.subplots(1,3, figsize = (15,3))\n",
    "ax1 = sns.barplot(x = 'variable', y = 'value', data = pd.DataFrame.from_dict([class_distribution(y_train)]).melt(), ax = ax[0])\n",
    "ax1.set(xlabel = 'Mapped Rating', ylabel = 'Count', title = 'Train Data')\n",
    "ax2 = sns.barplot(x = 'variable', y = 'value', data = pd.DataFrame.from_dict([class_distribution(y_val)]).melt(), ax = ax[1])\n",
    "ax2.set(xlabel = 'Mapped Rating', ylabel = 'Count', title = 'Validation Data')\n",
    "ax3 = sns.barplot(x = 'variable', y = 'value', data = pd.DataFrame.from_dict([class_distribution(y_test)]).melt(), ax = ax[2])\n",
    "ax3.set(xlabel = 'Mapped Rating', ylabel = 'Count', title = 'Test Data');"
   ]
  },
  {
   "cell_type": "markdown",
   "id": "changing-legislation",
   "metadata": {},
   "source": [
    "Defining custom dataset class that will be used by dataloader for passing the data into model."
   ]
  },
  {
   "cell_type": "code",
   "execution_count": 22,
   "id": "ethical-ghost",
   "metadata": {},
   "outputs": [],
   "source": [
    "# step-1: initialize, step-2: getting item, step-3: length of data\n",
    "class WineData(Dataset):\n",
    "    def __init__(self, X, y):\n",
    "        self.X = X\n",
    "        self.y = y\n",
    "        \n",
    "    def __getitem__(self, idx):\n",
    "        return self.X[idx], self.y[idx]\n",
    "    \n",
    "    def __len__(self):\n",
    "        return len(self.X)"
   ]
  },
  {
   "cell_type": "code",
   "execution_count": 23,
   "id": "secondary-chicken",
   "metadata": {},
   "outputs": [],
   "source": [
    "# making dataset, after this step dataset are ready to put into the dataloader\n",
    "train_dataset = WineData(torch.from_numpy(X_train).float(), torch.from_numpy(y_train).long())\n",
    "val_dataset = WineData(torch.from_numpy(X_val).float(), torch.from_numpy(y_val).long())\n",
    "test_dataset = WineData(torch.from_numpy(X_test).float(), torch.from_numpy(y_test).long())"
   ]
  },
  {
   "cell_type": "code",
   "execution_count": 24,
   "id": "insured-adapter",
   "metadata": {},
   "outputs": [],
   "source": [
    "target_list = []\n",
    "for _, target in train_dataset:\n",
    "    target_list.append(target)\n",
    "    \n",
    "target_list = torch.tensor(target_list)"
   ]
  },
  {
   "cell_type": "code",
   "execution_count": 25,
   "id": "annual-surname",
   "metadata": {},
   "outputs": [],
   "source": [
    "label, count = np.unique(y_train, return_counts=True)\n",
    "class_weights = 1/torch.tensor(count)"
   ]
  },
  {
   "cell_type": "code",
   "execution_count": 26,
   "id": "aerial-universal",
   "metadata": {},
   "outputs": [],
   "source": [
    "# as classes are already encoded from 0 to 6\n",
    "class_weights_all = class_weights[target_list]"
   ]
  },
  {
   "cell_type": "code",
   "execution_count": 27,
   "id": "actual-receptor",
   "metadata": {},
   "outputs": [],
   "source": [
    "# initialize WeightedRandomSampler\n",
    "weighted_sampler = WeightedRandomSampler(\n",
    "    weights = class_weights_all,\n",
    "    num_samples = len(class_weights_all),\n",
    "    replacement = True\n",
    ")"
   ]
  },
  {
   "cell_type": "code",
   "execution_count": 28,
   "id": "coral-engineering",
   "metadata": {},
   "outputs": [],
   "source": [
    "# define model parameters\n",
    "EPOCHS = 100\n",
    "BATCH_SIZE = X_train.shape[0]\n",
    "LEARNING_RATE = 5e-3\n",
    "N_FEATURE = len(X.columns)\n",
    "N_CLASS = 7"
   ]
  },
  {
   "cell_type": "code",
   "execution_count": 29,
   "id": "generic-dairy",
   "metadata": {},
   "outputs": [],
   "source": [
    "# shuffle and sampler are mutually exclusive\n",
    "train_loader = DataLoader(dataset = train_dataset, \n",
    "                          batch_size = BATCH_SIZE, \n",
    "                          sampler = weighted_sampler)\n",
    "val_loader = DataLoader(dataset = val_dataset, batch_size = X_val.shape[0])\n",
    "test_loader = DataLoader(dataset = test_dataset, batch_size = X_test.shape[0])"
   ]
  },
  {
   "cell_type": "markdown",
   "id": "norwegian-beaver",
   "metadata": {},
   "source": [
    "Define Neural Network Architecture"
   ]
  },
  {
   "cell_type": "code",
   "execution_count": 30,
   "id": "automated-adventure",
   "metadata": {},
   "outputs": [],
   "source": [
    "# define neural net architecture: inheritate the nn.Module into the self made class \n",
    "# object and the define the forward pass\n",
    "class MCCLF(nn.Module):\n",
    "    def __init__(self, n_feature, n_class):\n",
    "        super(MCCLF, self).__init__()\n",
    "        \n",
    "        self.input_layer = nn.Linear(n_feature, 32)\n",
    "        self.hidden_layer_1 = nn.Linear(32, 64)\n",
    "        self.hidden_layer_2 = nn.Linear(64, 16)\n",
    "        self.output_layer = nn.Linear(16, n_class)\n",
    "        \n",
    "        self.relu = nn.ReLU()\n",
    "        \n",
    "    def forward(self, x):\n",
    "        x =  self.input_layer(x)\n",
    "        x = self.relu(x)\n",
    "        \n",
    "        x = self.hidden_layer_1(x)\n",
    "        \n",
    "        x = self.hidden_layer_2(x)\n",
    "        x = self.relu(x)\n",
    "        \n",
    "        x = self.output_layer(x)\n",
    "        return x"
   ]
  },
  {
   "cell_type": "code",
   "execution_count": 31,
   "id": "national-monster",
   "metadata": {},
   "outputs": [],
   "source": [
    "# device = 'cuda' if torch.cuda.is_available else 'cpu'\n",
    "# print(device)\n",
    "device = \"cpu\""
   ]
  },
  {
   "cell_type": "code",
   "execution_count": 32,
   "id": "legendary-least",
   "metadata": {},
   "outputs": [],
   "source": [
    "# define model\n",
    "model = MCCLF(n_feature=N_FEATURE, n_class=N_CLASS)"
   ]
  },
  {
   "cell_type": "code",
   "execution_count": 33,
   "id": "computational-harrison",
   "metadata": {},
   "outputs": [
    {
     "data": {
      "text/plain": [
       "MCCLF(\n",
       "  (input_layer): Linear(in_features=12, out_features=32, bias=True)\n",
       "  (hidden_layer_1): Linear(in_features=32, out_features=64, bias=True)\n",
       "  (hidden_layer_2): Linear(in_features=64, out_features=16, bias=True)\n",
       "  (output_layer): Linear(in_features=16, out_features=7, bias=True)\n",
       "  (relu): ReLU()\n",
       ")"
      ]
     },
     "execution_count": 33,
     "metadata": {},
     "output_type": "execute_result"
    }
   ],
   "source": [
    "# model to device\n",
    "model.to(device)"
   ]
  },
  {
   "cell_type": "code",
   "execution_count": 34,
   "id": "minimal-consumption",
   "metadata": {},
   "outputs": [],
   "source": [
    "# define loss funtion and also send the weights to the device\n",
    "loss_fn = nn.CrossEntropyLoss(weight=class_weights.to(device))"
   ]
  },
  {
   "cell_type": "code",
   "execution_count": 35,
   "id": "hybrid-manhattan",
   "metadata": {},
   "outputs": [],
   "source": [
    "# define optimizer (SGD)\n",
    "optimizer = optim.SGD(model.parameters(), lr = LEARNING_RATE)"
   ]
  },
  {
   "cell_type": "code",
   "execution_count": 36,
   "id": "declared-contrary",
   "metadata": {},
   "outputs": [],
   "source": [
    "# define accuracy function\n",
    "def accuracy(y_pred, y_test):\n",
    "    y_pred_softmax = torch.log_softmax(y_pred, dim = 1)\n",
    "    _, y_pred_label = torch.max(y_pred_softmax, dim = 1)\n",
    "    correct_pred = (y_pred_label == y_test).float()\n",
    "    acc = correct_pred.sum()*100/len(correct_pred)\n",
    "    return acc"
   ]
  },
  {
   "cell_type": "code",
   "execution_count": 37,
   "id": "painful-great",
   "metadata": {},
   "outputs": [],
   "source": [
    "# dictionary to store the informations per epoch\n",
    "loss_stat = {'train':[], 'val':[]}\n",
    "accuracy_stat = {'train':[], 'val':[]}"
   ]
  },
  {
   "cell_type": "code",
   "execution_count": 38,
   "id": "ahead-taylor",
   "metadata": {},
   "outputs": [
    {
     "name": "stdout",
     "output_type": "stream",
     "text": [
      "Training start, Please wait.....\n"
     ]
    },
    {
     "data": {
      "application/vnd.jupyter.widget-view+json": {
       "model_id": "76f341fe61a64446b429c82ee47f214b",
       "version_major": 2,
       "version_minor": 0
      },
      "text/plain": [
       "  0%|          | 0/100 [00:00<?, ?it/s]"
      ]
     },
     "metadata": {},
     "output_type": "display_data"
    },
    {
     "name": "stdout",
     "output_type": "stream",
     "text": [
      "Epoch 001: Train loss: 2.07101 | Validation Loss: 1.92690 | Train accuracy: 13.8978 | Validation accuracy: 3.0769\n",
      "Epoch 002: Train loss: 2.06172 | Validation Loss: 1.92758 | Train accuracy: 14.4965 | Validation accuracy: 3.0769\n",
      "Epoch 003: Train loss: 2.06602 | Validation Loss: 1.92829 | Train accuracy: 13.7054 | Validation accuracy: 3.0769\n",
      "Epoch 004: Train loss: 2.05717 | Validation Loss: 1.92901 | Train accuracy: 13.5129 | Validation accuracy: 3.0769\n",
      "Epoch 005: Train loss: 2.05365 | Validation Loss: 1.92975 | Train accuracy: 14.3254 | Validation accuracy: 3.0769\n",
      "Epoch 006: Train loss: 2.04800 | Validation Loss: 1.93049 | Train accuracy: 14.2613 | Validation accuracy: 3.0769\n",
      "Epoch 007: Train loss: 2.03930 | Validation Loss: 1.93121 | Train accuracy: 14.2185 | Validation accuracy: 3.0769\n",
      "Epoch 008: Train loss: 2.03808 | Validation Loss: 1.93195 | Train accuracy: 15.2021 | Validation accuracy: 3.0769\n",
      "Epoch 009: Train loss: 2.03659 | Validation Loss: 1.93271 | Train accuracy: 13.9619 | Validation accuracy: 3.0769\n",
      "Epoch 010: Train loss: 2.02723 | Validation Loss: 1.93345 | Train accuracy: 14.0047 | Validation accuracy: 3.0769\n",
      "Epoch 011: Train loss: 2.02662 | Validation Loss: 1.93420 | Train accuracy: 14.6248 | Validation accuracy: 3.0769\n",
      "Epoch 012: Train loss: 2.02213 | Validation Loss: 1.93497 | Train accuracy: 14.9455 | Validation accuracy: 3.0769\n",
      "Epoch 013: Train loss: 2.01655 | Validation Loss: 1.93572 | Train accuracy: 14.4537 | Validation accuracy: 3.0769\n",
      "Epoch 014: Train loss: 2.01507 | Validation Loss: 1.93650 | Train accuracy: 14.0688 | Validation accuracy: 3.0769\n",
      "Epoch 015: Train loss: 2.00854 | Validation Loss: 1.93726 | Train accuracy: 14.1758 | Validation accuracy: 3.0769\n",
      "Epoch 016: Train loss: 2.00562 | Validation Loss: 1.93804 | Train accuracy: 14.8600 | Validation accuracy: 3.0769\n",
      "Epoch 017: Train loss: 2.00137 | Validation Loss: 1.93882 | Train accuracy: 15.3090 | Validation accuracy: 3.0769\n",
      "Epoch 018: Train loss: 1.99602 | Validation Loss: 1.93959 | Train accuracy: 14.7317 | Validation accuracy: 3.0769\n",
      "Epoch 019: Train loss: 1.99246 | Validation Loss: 1.94038 | Train accuracy: 14.3468 | Validation accuracy: 3.0769\n",
      "Epoch 020: Train loss: 1.98905 | Validation Loss: 1.94117 | Train accuracy: 14.0475 | Validation accuracy: 3.0769\n",
      "Epoch 021: Train loss: 1.98436 | Validation Loss: 1.94194 | Train accuracy: 14.0047 | Validation accuracy: 3.0769\n",
      "Epoch 022: Train loss: 1.98253 | Validation Loss: 1.94271 | Train accuracy: 14.4751 | Validation accuracy: 3.0769\n",
      "Epoch 023: Train loss: 1.97703 | Validation Loss: 1.94346 | Train accuracy: 13.8764 | Validation accuracy: 3.0769\n",
      "Epoch 024: Train loss: 1.97235 | Validation Loss: 1.94421 | Train accuracy: 13.6198 | Validation accuracy: 3.0769\n",
      "Epoch 025: Train loss: 1.97028 | Validation Loss: 1.94498 | Train accuracy: 14.7530 | Validation accuracy: 3.0769\n",
      "Epoch 026: Train loss: 1.96546 | Validation Loss: 1.94575 | Train accuracy: 13.5129 | Validation accuracy: 3.0769\n",
      "Epoch 027: Train loss: 1.96115 | Validation Loss: 1.94652 | Train accuracy: 14.8813 | Validation accuracy: 3.0769\n",
      "Epoch 028: Train loss: 1.95630 | Validation Loss: 1.94728 | Train accuracy: 15.0310 | Validation accuracy: 3.0769\n",
      "Epoch 029: Train loss: 1.94982 | Validation Loss: 1.94803 | Train accuracy: 14.1758 | Validation accuracy: 2.8846\n",
      "Epoch 030: Train loss: 1.95093 | Validation Loss: 1.94882 | Train accuracy: 14.4109 | Validation accuracy: 2.6923\n",
      "Epoch 031: Train loss: 1.94375 | Validation Loss: 1.94959 | Train accuracy: 17.1050 | Validation accuracy: 1.1538\n",
      "Epoch 032: Train loss: 1.94285 | Validation Loss: 1.95038 | Train accuracy: 10.8830 | Validation accuracy: 0.9615\n",
      "Epoch 033: Train loss: 1.93816 | Validation Loss: 1.95118 | Train accuracy: 9.4719 | Validation accuracy: 0.7692\n",
      "Epoch 034: Train loss: 1.93466 | Validation Loss: 1.95198 | Train accuracy: 7.7614 | Validation accuracy: 0.3846\n",
      "Epoch 035: Train loss: 1.92964 | Validation Loss: 1.95277 | Train accuracy: 8.7022 | Validation accuracy: 0.3846\n",
      "Epoch 036: Train loss: 1.92481 | Validation Loss: 1.95356 | Train accuracy: 8.5739 | Validation accuracy: 0.3846\n",
      "Epoch 037: Train loss: 1.92020 | Validation Loss: 1.95435 | Train accuracy: 8.8518 | Validation accuracy: 0.3846\n",
      "Epoch 038: Train loss: 1.91930 | Validation Loss: 1.95517 | Train accuracy: 10.0492 | Validation accuracy: 0.3846\n",
      "Epoch 039: Train loss: 1.91499 | Validation Loss: 1.95599 | Train accuracy: 9.7498 | Validation accuracy: 0.3846\n",
      "Epoch 040: Train loss: 1.90986 | Validation Loss: 1.95679 | Train accuracy: 9.2795 | Validation accuracy: 0.1923\n",
      "Epoch 041: Train loss: 1.90598 | Validation Loss: 1.95758 | Train accuracy: 10.4982 | Validation accuracy: 0.0000\n",
      "Epoch 042: Train loss: 1.90304 | Validation Loss: 1.95838 | Train accuracy: 9.6002 | Validation accuracy: 0.0000\n",
      "Epoch 043: Train loss: 1.89929 | Validation Loss: 1.95920 | Train accuracy: 10.4768 | Validation accuracy: 0.0000\n",
      "Epoch 044: Train loss: 1.89535 | Validation Loss: 1.96002 | Train accuracy: 10.4127 | Validation accuracy: 0.0000\n",
      "Epoch 045: Train loss: 1.89202 | Validation Loss: 1.96085 | Train accuracy: 9.7285 | Validation accuracy: 0.0000\n",
      "Epoch 046: Train loss: 1.88755 | Validation Loss: 1.96167 | Train accuracy: 10.9044 | Validation accuracy: 0.0000\n",
      "Epoch 047: Train loss: 1.88384 | Validation Loss: 1.96249 | Train accuracy: 10.3271 | Validation accuracy: 0.0000\n",
      "Epoch 048: Train loss: 1.88002 | Validation Loss: 1.96332 | Train accuracy: 10.0492 | Validation accuracy: 0.0000\n",
      "Epoch 049: Train loss: 1.87605 | Validation Loss: 1.96414 | Train accuracy: 10.3485 | Validation accuracy: 0.0000\n",
      "Epoch 050: Train loss: 1.87249 | Validation Loss: 1.96496 | Train accuracy: 10.6051 | Validation accuracy: 0.0000\n",
      "Epoch 051: Train loss: 1.86926 | Validation Loss: 1.96581 | Train accuracy: 10.9258 | Validation accuracy: 0.0000\n",
      "Epoch 052: Train loss: 1.86539 | Validation Loss: 1.96665 | Train accuracy: 10.4340 | Validation accuracy: 0.0000\n",
      "Epoch 053: Train loss: 1.86142 | Validation Loss: 1.96747 | Train accuracy: 11.1824 | Validation accuracy: 0.0000\n",
      "Epoch 054: Train loss: 1.85821 | Validation Loss: 1.96832 | Train accuracy: 11.5672 | Validation accuracy: 0.0000\n",
      "Epoch 055: Train loss: 1.85436 | Validation Loss: 1.96916 | Train accuracy: 12.1232 | Validation accuracy: 0.0000\n",
      "Epoch 056: Train loss: 1.85087 | Validation Loss: 1.97002 | Train accuracy: 11.0113 | Validation accuracy: 0.0000\n",
      "Epoch 057: Train loss: 1.84708 | Validation Loss: 1.97087 | Train accuracy: 11.6314 | Validation accuracy: 0.0000\n",
      "Epoch 058: Train loss: 1.84394 | Validation Loss: 1.97174 | Train accuracy: 11.6100 | Validation accuracy: 0.0000\n",
      "Epoch 059: Train loss: 1.84006 | Validation Loss: 1.97254 | Train accuracy: 13.1281 | Validation accuracy: 0.0000\n",
      "Epoch 060: Train loss: 1.83655 | Validation Loss: 1.97335 | Train accuracy: 12.6577 | Validation accuracy: 0.1923\n",
      "Epoch 061: Train loss: 1.83306 | Validation Loss: 1.97414 | Train accuracy: 11.8666 | Validation accuracy: 0.0000\n",
      "Epoch 062: Train loss: 1.82946 | Validation Loss: 1.97492 | Train accuracy: 17.5112 | Validation accuracy: 0.0000\n",
      "Epoch 063: Train loss: 1.82573 | Validation Loss: 1.97573 | Train accuracy: 14.1116 | Validation accuracy: 0.0000\n",
      "Epoch 064: Train loss: 1.82222 | Validation Loss: 1.97651 | Train accuracy: 13.9406 | Validation accuracy: 0.0000\n",
      "Epoch 065: Train loss: 1.81873 | Validation Loss: 1.97731 | Train accuracy: 14.8600 | Validation accuracy: 0.0000\n",
      "Epoch 066: Train loss: 1.81608 | Validation Loss: 1.97809 | Train accuracy: 13.7267 | Validation accuracy: 0.0000\n",
      "Epoch 067: Train loss: 1.81234 | Validation Loss: 1.97889 | Train accuracy: 14.6675 | Validation accuracy: 0.0000\n",
      "Epoch 068: Train loss: 1.80943 | Validation Loss: 1.97968 | Train accuracy: 14.0047 | Validation accuracy: 0.0000\n",
      "Epoch 069: Train loss: 1.80605 | Validation Loss: 1.98048 | Train accuracy: 14.6248 | Validation accuracy: 0.0000\n",
      "Epoch 070: Train loss: 1.80271 | Validation Loss: 1.98129 | Train accuracy: 14.4751 | Validation accuracy: 0.0000\n",
      "Epoch 071: Train loss: 1.79965 | Validation Loss: 1.98211 | Train accuracy: 14.2613 | Validation accuracy: 0.0000\n",
      "Epoch 072: Train loss: 1.79738 | Validation Loss: 1.98291 | Train accuracy: 13.5985 | Validation accuracy: 0.0000\n",
      "Epoch 073: Train loss: 1.79373 | Validation Loss: 1.98372 | Train accuracy: 13.9406 | Validation accuracy: 0.0000\n",
      "Epoch 074: Train loss: 1.78968 | Validation Loss: 1.98456 | Train accuracy: 14.9241 | Validation accuracy: 0.0000\n",
      "Epoch 075: Train loss: 1.78625 | Validation Loss: 1.98541 | Train accuracy: 14.6889 | Validation accuracy: 0.0000\n",
      "Epoch 076: Train loss: 1.78468 | Validation Loss: 1.98623 | Train accuracy: 13.4916 | Validation accuracy: 0.0000\n",
      "Epoch 077: Train loss: 1.77977 | Validation Loss: 1.98709 | Train accuracy: 15.1379 | Validation accuracy: 0.0000\n",
      "Epoch 078: Train loss: 1.77723 | Validation Loss: 1.98794 | Train accuracy: 14.2399 | Validation accuracy: 0.0000\n",
      "Epoch 079: Train loss: 1.77387 | Validation Loss: 1.98880 | Train accuracy: 14.2827 | Validation accuracy: 0.0000\n",
      "Epoch 080: Train loss: 1.77005 | Validation Loss: 1.98967 | Train accuracy: 14.9241 | Validation accuracy: 0.0000\n",
      "Epoch 081: Train loss: 1.76739 | Validation Loss: 1.99055 | Train accuracy: 14.0261 | Validation accuracy: 0.0000\n",
      "Epoch 082: Train loss: 1.76420 | Validation Loss: 1.99142 | Train accuracy: 14.3254 | Validation accuracy: 0.0000\n",
      "Epoch 083: Train loss: 1.76208 | Validation Loss: 1.99229 | Train accuracy: 13.5557 | Validation accuracy: 0.0000\n",
      "Epoch 084: Train loss: 1.75789 | Validation Loss: 1.99318 | Train accuracy: 14.0475 | Validation accuracy: 0.0000\n",
      "Epoch 085: Train loss: 1.75480 | Validation Loss: 1.99408 | Train accuracy: 13.8337 | Validation accuracy: 0.0000\n",
      "Epoch 086: Train loss: 1.75208 | Validation Loss: 1.99497 | Train accuracy: 13.8978 | Validation accuracy: 0.0000\n",
      "Epoch 087: Train loss: 1.74603 | Validation Loss: 1.99589 | Train accuracy: 15.5442 | Validation accuracy: 0.0000\n",
      "Epoch 088: Train loss: 1.74496 | Validation Loss: 1.99680 | Train accuracy: 14.4751 | Validation accuracy: 0.0000\n",
      "Epoch 089: Train loss: 1.74341 | Validation Loss: 1.99770 | Train accuracy: 13.6626 | Validation accuracy: 0.0000\n",
      "Epoch 090: Train loss: 1.73722 | Validation Loss: 1.99863 | Train accuracy: 14.8386 | Validation accuracy: 0.0000\n",
      "Epoch 091: Train loss: 1.73556 | Validation Loss: 1.99956 | Train accuracy: 13.9833 | Validation accuracy: 0.0000\n",
      "Epoch 092: Train loss: 1.73299 | Validation Loss: 2.00048 | Train accuracy: 13.8337 | Validation accuracy: 0.0000\n",
      "Epoch 093: Train loss: 1.72893 | Validation Loss: 2.00142 | Train accuracy: 13.9192 | Validation accuracy: 0.0000\n",
      "Epoch 094: Train loss: 1.72418 | Validation Loss: 2.00238 | Train accuracy: 14.7103 | Validation accuracy: 0.0000\n",
      "Epoch 095: Train loss: 1.72272 | Validation Loss: 2.00333 | Train accuracy: 14.4323 | Validation accuracy: 0.0000\n",
      "Epoch 096: Train loss: 1.71974 | Validation Loss: 2.00428 | Train accuracy: 14.2399 | Validation accuracy: 0.0000\n",
      "Epoch 097: Train loss: 1.71521 | Validation Loss: 2.00525 | Train accuracy: 14.3040 | Validation accuracy: 0.0000\n",
      "Epoch 098: Train loss: 1.71258 | Validation Loss: 2.00623 | Train accuracy: 14.3254 | Validation accuracy: 0.0000\n",
      "Epoch 099: Train loss: 1.70923 | Validation Loss: 2.00721 | Train accuracy: 14.2185 | Validation accuracy: 0.0000\n",
      "Epoch 100: Train loss: 1.70569 | Validation Loss: 2.00819 | Train accuracy: 14.2185 | Validation accuracy: 0.0000\n",
      "Yeah Finished! Total time taken: 3.84 seconds.\n"
     ]
    }
   ],
   "source": [
    "print('Training start, Please wait.....'); start = time.time()\n",
    "# part-1: training # part-2: validation\n",
    "# initialize lists to store traininng loss and accuracy\n",
    "# initialize lists to store gradients and norm of the gradient (of loss function)\n",
    "# train the model\n",
    "# for a batch: send to device, initialize gradient in optimizer\n",
    "\n",
    "for epoch in tqdm(range(1, EPOCHS+1)):\n",
    "    train_epoch_loss = []\n",
    "    train_epoch_acc = []\n",
    "    loss_grad = []\n",
    "    norm_loss_grad = []\n",
    "    model.train()\n",
    "    for X_train_batch, y_train_batch in train_loader:\n",
    "        X_train_batch, y_train_batch = X_train_batch.to(device), y_train_batch.to(device)\n",
    "        optimizer.zero_grad()\n",
    "        \n",
    "        y_train_pred = model(X_train_batch)\n",
    "        \n",
    "        train_loss = loss_fn(y_train_pred, y_train_batch)\n",
    "        train_acc = accuracy(y_train_pred, y_train_batch)\n",
    "        \n",
    "        train_loss.backward()\n",
    "        optimizer.step()\n",
    "        \n",
    "        train_epoch_loss.append(train_loss.item())\n",
    "        train_epoch_acc.append(train_acc.item())\n",
    "    \n",
    "    with torch.no_grad():\n",
    "        val_epoch_loss = []\n",
    "        val_epoch_acc = []\n",
    "        model.eval()\n",
    "        for X_val_batch, y_val_batch in val_loader:\n",
    "            X_val_batch, y_val_batch = X_val_batch.to(device), y_val_batch.to(device)\n",
    "            \n",
    "            y_val_pred = model(X_val_batch)\n",
    "            \n",
    "            val_loss = loss_fn(y_val_pred, y_val_batch)\n",
    "            val_acc = accuracy(y_val_pred, y_val_batch)\n",
    "            \n",
    "            val_epoch_loss.append(val_loss.item())\n",
    "            val_epoch_acc.append(val_acc.item())\n",
    "            \n",
    "        loss_stat['train'].append(np.round(np.sum(train_epoch_loss)/len(train_loader), 5))\n",
    "        loss_stat['val'].append(np.round(np.sum(val_epoch_loss)/len(val_loader), 5))\n",
    "        accuracy_stat['train'].append(np.round(np.sum(train_epoch_acc)/len(train_loader), 5))\n",
    "        accuracy_stat['val'].append(np.round(np.sum(val_epoch_acc)/len(val_loader), 5))\n",
    "\n",
    "        print('Epoch {:03}: Train loss: {:.5f} | Validation Loss: {:.5f} | Train accuracy: {:.4f} | Validation accuracy: {:.4f}'.format(\n",
    "        epoch,\n",
    "        np.sum(train_epoch_loss)/len(train_loader),\n",
    "        np.sum(val_epoch_loss)/len(val_loader),\n",
    "        np.sum(train_epoch_acc)/len(train_loader),\n",
    "        np.sum(val_epoch_acc)/len(val_loader)))        \n",
    "\n",
    "print('Yeah Finished! Total time taken: {:.2f} seconds.'.format(time.time()-start))"
   ]
  },
  {
   "cell_type": "code",
   "execution_count": null,
   "id": "relative-costs",
   "metadata": {},
   "outputs": [],
   "source": []
  }
 ],
 "metadata": {
  "kernelspec": {
   "display_name": "Python 3",
   "language": "python",
   "name": "python3"
  },
  "language_info": {
   "codemirror_mode": {
    "name": "ipython",
    "version": 3
   },
   "file_extension": ".py",
   "mimetype": "text/x-python",
   "name": "python",
   "nbconvert_exporter": "python",
   "pygments_lexer": "ipython3",
   "version": "3.7.6"
  }
 },
 "nbformat": 4,
 "nbformat_minor": 5
}

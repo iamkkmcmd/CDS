{
 "cells": [
  {
   "cell_type": "code",
   "execution_count": null,
   "id": "9d577705",
   "metadata": {},
   "outputs": [],
   "source": [
    "import os \n",
    "import sys\n",
    "import numpy as np\n",
    "import pandas as pd\n",
    "import matplotlib.pyplot as plt\n",
    "import matplotlib.colors\n",
    "from mpl_toolkits.mplot3d import Axes3D\n",
    "from sklearn.model_selection import train_test_split\n",
    "import statsmodels.api as sm\n",
    "from sklearn.metrics import r2_score\n",
    "from statsmodels.stats.outliers_influence import variance_inflation_factor\n",
    "from sklearn.linear_model import LinearRegression, Lasso, Ridge, lasso_path, lars_path, enet_path\n",
    "%run script.py"
   ]
  },
  {
   "cell_type": "code",
   "execution_count": null,
   "id": "b600d769",
   "metadata": {
    "scrolled": true
   },
   "outputs": [],
   "source": [
    "data = pd.read_csv('./data/train.csv')\n",
    "data.head()"
   ]
  },
  {
   "cell_type": "code",
   "execution_count": null,
   "id": "7d99440d",
   "metadata": {},
   "outputs": [],
   "source": [
    "y = data['critical_temp']\n",
    "X = data[data.columns[['wtd' in column for column in data.columns]]]"
   ]
  },
  {
   "cell_type": "code",
   "execution_count": null,
   "id": "7bbd9802",
   "metadata": {
    "scrolled": true
   },
   "outputs": [],
   "source": [
    "# data.isnull().sum()\n",
    "# data.info()\n",
    "# data.describe()"
   ]
  },
  {
   "cell_type": "code",
   "execution_count": null,
   "id": "8c515c9f",
   "metadata": {},
   "outputs": [],
   "source": [
    "cor_mat = X.corr().abs()\n",
    "plt.matshow(cor_mat)\n",
    "plt.show()"
   ]
  },
  {
   "cell_type": "code",
   "execution_count": null,
   "id": "3e5d3730",
   "metadata": {
    "scrolled": true
   },
   "outputs": [],
   "source": [
    "upper_tri = cor_mat.where(np.triu(np.ones(cor_mat.shape),k=1).astype(np.bool))\n",
    "to_drop = [column for column in upper_tri.columns if any(upper_tri[column] > 0.8)]\n",
    "X1 = X.drop(to_drop , axis = 1)"
   ]
  },
  {
   "cell_type": "code",
   "execution_count": null,
   "id": "04984b1d",
   "metadata": {
    "scrolled": true
   },
   "outputs": [],
   "source": [
    "vif_data = pd.DataFrame()\n",
    "vif_data[\"feature\"] = X.columns\n",
    "  \n",
    "# calculating VIF for each feature\n",
    "vif_data[\"VIF\"] = [variance_inflation_factor(X.values, i)\n",
    "                          for i in range(len(X.columns))]\n",
    "\n",
    "vif_data = vif_data.sort_values(by = ['VIF'])\n",
    "vif_data"
   ]
  },
  {
   "cell_type": "code",
   "execution_count": null,
   "id": "c7f29f23",
   "metadata": {
    "scrolled": true
   },
   "outputs": [],
   "source": [
    "top_19 = vif_data.feature[:19]\n",
    "sum([x in to_drop for x in list(top_19)])"
   ]
  },
  {
   "cell_type": "code",
   "execution_count": null,
   "id": "4ccdfdfe",
   "metadata": {},
   "outputs": [],
   "source": [
    "X_train, X_test, y_train, y_test = train_test_split(X1, y, test_size = 0.2, shuffle = False)\n",
    "print(f'X_train: {X_train.shape}\\ny_train: {y_train.shape}')\n",
    "print(f'X_test: {X_test.shape}\\ny_test: {y_test.shape}')"
   ]
  },
  {
   "cell_type": "code",
   "execution_count": null,
   "id": "fd566de6",
   "metadata": {
    "scrolled": true
   },
   "outputs": [],
   "source": [
    "mlr_model = LinearRegression().fit(X_train, y_train)\n",
    "mlr_model.coef_"
   ]
  },
  {
   "cell_type": "code",
   "execution_count": null,
   "id": "bdcae5cf",
   "metadata": {},
   "outputs": [],
   "source": [
    "# y_pred = mlr_model.predict(X_test)\n",
    "# rss = ((y_test - y_pred)**2).sum();rss\n",
    "# tss = ((y_test - y_test.mean())**2).sum();tss\n",
    "# ((tss-rss)/tss)*100"
   ]
  },
  {
   "cell_type": "code",
   "execution_count": null,
   "id": "1b9f0f7c",
   "metadata": {
    "scrolled": true
   },
   "outputs": [],
   "source": [
    "mlr_model.score(X_test, y_test)"
   ]
  },
  {
   "cell_type": "code",
   "execution_count": null,
   "id": "ed9cdbb6",
   "metadata": {},
   "outputs": [],
   "source": [
    "y_pred = model.predict(X_test)\n",
    "rss = ((y_test - y_pred)**2).sum();rss\n",
    "tss = ((y_test - y_test.mean())**2).sum();tss\n",
    "((tss-rss)/tss)*100"
   ]
  },
  {
   "cell_type": "code",
   "execution_count": null,
   "id": "df6bf72b",
   "metadata": {},
   "outputs": [],
   "source": [
    "lasso_model = Lasso(alpha=0.9)\n",
    "lasso_model.fit(X_train, y_train)\n",
    "lasso_model.score(X_test, y_test)"
   ]
  },
  {
   "cell_type": "code",
   "execution_count": null,
   "id": "1e66bfb7",
   "metadata": {},
   "outputs": [],
   "source": [
    "ridge_model = Ridge(alpha = 0.8)\n",
    "ridge_model.fit(X_train, y_train)\n",
    "ridge_model.score(X_test, y_test)"
   ]
  },
  {
   "cell_type": "code",
   "execution_count": null,
   "id": "7435b1ca",
   "metadata": {
    "scrolled": true
   },
   "outputs": [],
   "source": [
    "np.linspace(1,20,20)"
   ]
  },
  {
   "cell_type": "code",
   "execution_count": null,
   "id": "926a3aa1",
   "metadata": {},
   "outputs": [],
   "source": [
    "plt.figure(figsize = (16,9))\n",
    "xx = np.linspace(1,20,20)\n",
    "plt.plot(xx, mlr_model.coef_, label = 'OLS', color = 'red')\n",
    "plt.plot(xx, lasso_model.coef_, label = 'Lasso')\n",
    "plt.plot(xx, ridge_model.coef_, label = 'Ridge', linestyle = 'dashed', color = 'green')\n",
    "plt.xlabel(''); plt.ylabel('Coefficient'); plt.title('')\n",
    "plt.legend(loc = 'best')\n",
    "plt.show()"
   ]
  },
  {
   "cell_type": "code",
   "execution_count": null,
   "id": "8de69d2d",
   "metadata": {},
   "outputs": [],
   "source": [
    "alpha, coefs, _ = lasso_path(np.array(X_train), np.array(y_train))\n",
    "coefs = pd.DataFrame(coefs.T, columns = X_train.columns)\n",
    "xx = np.sum(np.abs(np.array(coefs)), axis=1)\n",
    "xx /= xx[-1]\n",
    "plt.figure(figsize = (16,9))\n",
    "plt.plot(xx, coefs)\n",
    "plt.legend(X_train.columns, bbox_to_anchor = (1,1))\n",
    "plt.title(\"LASSO Path\")\n",
    "plt.axis(\"tight\")\n",
    "plt.show()"
   ]
  },
  {
   "cell_type": "code",
   "execution_count": null,
   "id": "22c0af10",
   "metadata": {},
   "outputs": [],
   "source": [
    "_, _, coefs = lars_path(np.array(X_train), np.array(y_train), method = \"lasso\", verbose=True)\n",
    "coefs = pd.DataFrame(coefs.T, columns = X_train.columns)\n",
    "xx = np.sum(np.abs(np.array(coefs)), axis=1)\n",
    "xx /= xx[-1]\n",
    "plt.figure(figsize = (16,9))\n",
    "plt.plot(xx, coefs)\n",
    "plt.legend(X_train.columns, bbox_to_anchor = (1,1))\n",
    "ymin, ymax = plt.ylim()\n",
    "plt.vlines(xx, ymin, ymax, linestyle=\"dashed\")\n",
    "plt.xlabel(\"|coef| / max|coef|\")\n",
    "plt.ylabel(\"Coefficients\")\n",
    "plt.title(\"LASSO Path\")\n",
    "plt.axis(\"tight\")\n",
    "plt.show()"
   ]
  },
  {
   "cell_type": "code",
   "execution_count": null,
   "id": "13ca0786",
   "metadata": {},
   "outputs": [],
   "source": [
    "_, _, coefs = lars_path(np.array(X_train), np.array(y_train))\n",
    "coefs = pd.DataFrame(coefs.T, columns = X_train.columns)\n",
    "xx = np.sum(np.abs(np.array(coefs)), axis=1)\n",
    "xx /= xx[-1]\n",
    "plt.figure(figsize = (16,9))\n",
    "plt.plot(xx, coefs)\n",
    "plt.legend(X_train.columns, bbox_to_anchor = (1,1))\n",
    "ymin, ymax = plt.ylim()\n",
    "plt.vlines(xx, ymin, ymax, linestyle=\"dashed\")\n",
    "plt.xlabel(\"|coef| / max|coef|\")\n",
    "plt.ylabel(\"Coefficients\")\n",
    "plt.title(\"LASSO LARs Path\")\n",
    "plt.axis(\"tight\")\n",
    "plt.show()"
   ]
  },
  {
   "cell_type": "code",
   "execution_count": null,
   "id": "831cf586",
   "metadata": {},
   "outputs": [],
   "source": [
    "print(f\"X_train:{X_train.shape}\\ny_train:{y_train.shape}\")\n",
    "\n",
    "batch_regressor = Regressor(normalize = True)\n",
    "batch_regressor.fit(X_train,y_train)\n",
    "\n",
    "train_score = r2_score(batch_regressor.predict(X_train),y_train)\n",
    "test_score = r2_score(batch_regressor.predict(X_test),y_test)\n",
    "\n",
    "print(\"Train Score:\", train_score)\n",
    "print(\"Test Score: \",test_score)\n",
    "batch_regressor.plot()"
   ]
  },
  {
   "cell_type": "code",
   "execution_count": null,
   "id": "9c3f7d70",
   "metadata": {},
   "outputs": [],
   "source": [
    "print(f\"X_train:{X_train.shape}\\ny_train:{y_train.shape}\")\n",
    "\n",
    "seq_regressor = Regressor(normalize = True)\n",
    "seq_regressor.seq_fit(np.array(X_train),np.array(y_train))\n",
    "\n",
    "train_score = r2_score(seq_regressor.predict(X_train),y_train)\n",
    "test_score = r2_score(seq_regressor.predict(X_test),y_test)\n",
    "\n",
    "print(\"Train Score:\", train_score)\n",
    "print(\"Test Score: \",test_score)\n",
    "seq_regressor.plot()"
   ]
  },
  {
   "cell_type": "code",
   "execution_count": null,
   "id": "99acc643",
   "metadata": {},
   "outputs": [],
   "source": []
  }
 ],
 "metadata": {
  "kernelspec": {
   "display_name": "Python 3 (ipykernel)",
   "language": "python",
   "name": "python3"
  },
  "language_info": {
   "codemirror_mode": {
    "name": "ipython",
    "version": 3
   },
   "file_extension": ".py",
   "mimetype": "text/x-python",
   "name": "python",
   "nbconvert_exporter": "python",
   "pygments_lexer": "ipython3",
   "version": "3.9.7"
  }
 },
 "nbformat": 4,
 "nbformat_minor": 5
}

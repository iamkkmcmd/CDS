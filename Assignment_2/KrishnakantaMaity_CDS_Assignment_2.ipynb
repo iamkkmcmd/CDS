{
 "cells": [
  {
   "cell_type": "markdown",
   "id": "99aa68b9",
   "metadata": {},
   "source": [
    "#### Import modules"
   ]
  },
  {
   "cell_type": "code",
   "execution_count": 1,
   "id": "be772a1e",
   "metadata": {},
   "outputs": [],
   "source": [
    "import math\n",
    "import numpy as np\n",
    "import pandas as pd\n",
    "import random\n",
    "import matplotlib.pyplot as plt\n",
    "import sys"
   ]
  },
  {
   "cell_type": "markdown",
   "id": "f8c4a2bb",
   "metadata": {},
   "source": [
    "### Solution of problem - 1"
   ]
  },
  {
   "cell_type": "code",
   "execution_count": 3,
   "id": "617bca2b",
   "metadata": {},
   "outputs": [],
   "source": [
    "# Enter the value of a and b\n",
    "a = 100; b = 1000"
   ]
  },
  {
   "cell_type": "code",
   "execution_count": 4,
   "id": "a3214986",
   "metadata": {},
   "outputs": [],
   "source": [
    "m_epsilon = sys.float_info.epsilon # Machine epsilon\n",
    "fact = 100000 # Multiplication factor"
   ]
  },
  {
   "cell_type": "code",
   "execution_count": 6,
   "id": "b5a41b7a",
   "metadata": {},
   "outputs": [],
   "source": [
    "def compensated_sum(n,l):\n",
    "    s_com = 0\n",
    "    c = 0\n",
    "    for i in range(n):\n",
    "        y = l[i] - c\n",
    "        t = s_com + y\n",
    "        z = t - s_com\n",
    "        c = z - y\n",
    "        s_com = t\n",
    "    return s_com\n",
    "def errorSum(sim):\n",
    "    e1 = []; e2 = []; e3 = []\n",
    "    for n in range(sim):\n",
    "        r = random.uniform(a,b)\n",
    "        l = np.array([r+(fact*m_epsilon) for i in range(n)])\n",
    "        # Unsoreted sum\n",
    "        s_unsorted = sum(l)\n",
    "        # Sorted sum\n",
    "        s_sorted = sum(np.sort(l))\n",
    "        # compensated_sum\n",
    "        s_com = compensated_sum(n,l)\n",
    "        \n",
    "        # append values\n",
    "        e1.append(np.abs(s_unsorted - s_sorted))\n",
    "        e2.append(np.abs(s_unsorted - s_com))\n",
    "        e3.append(np.abs(s_sorted - s_com))\n",
    "        \n",
    "    # Data frame\n",
    "    error_df = pd.DataFrame(list(zip(e1, e2, e3)), index = np.arange(sim), \n",
    "                           columns = ['Unsorted-Sorted', 'Unsorted-Compensated', 'Sorted-Compensated'])\n",
    "    return error_df"
   ]
  },
  {
   "cell_type": "code",
   "execution_count": 15,
   "id": "8ee277bb",
   "metadata": {},
   "outputs": [],
   "source": [
    "error_df = errorSum(100)"
   ]
  },
  {
   "cell_type": "code",
   "execution_count": 27,
   "id": "2d6df970",
   "metadata": {},
   "outputs": [
    {
     "data": {
      "text/plain": [
       "Text(36.625, 0.5, 'Error Value')"
      ]
     },
     "execution_count": 27,
     "metadata": {},
     "output_type": "execute_result"
    },
    {
     "data": {
      "image/png": "[encoded data removed]",
      "text/plain": [
       "<Figure size 432x288 with 3 Axes>"
      ]
     },
     "metadata": {
      "needs_background": "light"
     },
     "output_type": "display_data"
    }
   ],
   "source": [
    "fig, (axs1, axs2, axs3) = plt.subplots(3,1)\n",
    "axs1.plot(error_df['Unsorted-Sorted'])\n",
    "axs1.set_title('Unsorted-Sorted')\n",
    "axs2.plot(error_df['Unsorted-Compensated'])\n",
    "axs2.set_title(\"Unsorted-Compensated\")\n",
    "axs3.plot(error_df['Sorted-Compensated'])\n",
    "axs3.set_title('Sorted-Compensated')\n",
    "fig.tight_layout()\n",
    "plt.xlabel(\"Array Length\")\n",
    "plt.ylabel(\"Error Value\")"
   ]
  },
  {
   "cell_type": "markdown",
   "id": "329e2fd9",
   "metadata": {},
   "source": [
    "### Solution of problem - 2"
   ]
  },
  {
   "cell_type": "code",
   "execution_count": 22,
   "id": "b41dd1a6",
   "metadata": {},
   "outputs": [],
   "source": [
    "c = 1; i = 0.08\n",
    "n = 365; x = i/365"
   ]
  },
  {
   "cell_type": "code",
   "execution_count": 23,
   "id": "37b41e0b",
   "metadata": {},
   "outputs": [
    {
     "data": {
      "text/plain": [
       "379.9539213048082"
      ]
     },
     "execution_count": 23,
     "metadata": {},
     "output_type": "execute_result"
    }
   ],
   "source": [
    "vanilla = c*(math.e**(n*math.log(1+x))-1)/x\n",
    "vanilla"
   ]
  },
  {
   "cell_type": "code",
   "execution_count": 24,
   "id": "c028e749",
   "metadata": {},
   "outputs": [
    {
     "data": {
      "text/plain": [
       "379.9539213046816"
      ]
     },
     "execution_count": 24,
     "metadata": {},
     "output_type": "execute_result"
    }
   ],
   "source": [
    "misc =  c*(math.e**(n*((x*math.log(1+x))/((1+x)-1)))-1)/x\n",
    "misc"
   ]
  },
  {
   "cell_type": "code",
   "execution_count": 25,
   "id": "6d4e1905",
   "metadata": {},
   "outputs": [
    {
     "data": {
      "text/plain": [
       "379.9539213046816"
      ]
     },
     "execution_count": 25,
     "metadata": {},
     "output_type": "execute_result"
    }
   ],
   "source": [
    "log_mac = 0.0                  \n",
    "\n",
    "for i in range(1, 366):\n",
    "    log_mac += (-1)**(i+1)*(x**i)/i\n",
    "    \n",
    "maclaurin = c*(math.e**(n*log_mac)-1)/x    \n",
    "maclaurin"
   ]
  },
  {
   "cell_type": "code",
   "execution_count": 28,
   "id": "3cb75934",
   "metadata": {},
   "outputs": [
    {
     "data": {
      "text/plain": [
       "0.0"
      ]
     },
     "execution_count": 28,
     "metadata": {},
     "output_type": "execute_result"
    }
   ],
   "source": [
    "misc - maclaurin"
   ]
  }
 ],
 "metadata": {
  "kernelspec": {
   "display_name": "Python 3",
   "language": "python",
   "name": "python3"
  },
  "language_info": {
   "codemirror_mode": {
    "name": "ipython",
    "version": 3
   },
   "file_extension": ".py",
   "mimetype": "text/x-python",
   "name": "python",
   "nbconvert_exporter": "python",
   "pygments_lexer": "ipython3",
   "version": "3.8.8"
  }
 },
 "nbformat": 4,
 "nbformat_minor": 5
}

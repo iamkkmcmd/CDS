{
 "cells": [
  {
   "cell_type": "code",
   "execution_count": 1,
   "id": "8fb055bd",
   "metadata": {},
   "outputs": [],
   "source": [
    "import numpy as np\n",
    "\n",
    "# Needed for plotting\n",
    "import matplotlib.colors\n",
    "import matplotlib.pyplot as plt\n",
    "from mpl_toolkits.mplot3d import Axes3D\n",
    "\n",
    "# Needed for generating training and testing datasets\n",
    "from sklearn.model_selection import train_test_split\n",
    "import statsmodels.api as sm\n",
    "from sklearn.metrics import r2_score\n",
    "\n",
    "np.random.seed(12345) # 1234"
   ]
  },
  {
   "cell_type": "code",
   "execution_count": 2,
   "id": "5483a042",
   "metadata": {},
   "outputs": [
    {
     "ename": "NameError",
     "evalue": "name 'X' is not defined",
     "output_type": "error",
     "traceback": [
      "\u001b[1;31m---------------------------------------------------------------------------\u001b[0m",
      "\u001b[1;31mNameError\u001b[0m                                 Traceback (most recent call last)",
      "\u001b[1;32mC:\\Users\\SYSTEM~1\\AppData\\Local\\Temp/ipykernel_7852/1075182854.py\u001b[0m in \u001b[0;36m<module>\u001b[1;34m\u001b[0m\n\u001b[0;32m      1\u001b[0m \u001b[1;32mimport\u001b[0m \u001b[0mpandas\u001b[0m \u001b[1;32mas\u001b[0m \u001b[0mpd\u001b[0m\u001b[1;33m\u001b[0m\u001b[1;33m\u001b[0m\u001b[0m\n\u001b[1;32m----> 2\u001b[1;33m \u001b[0mpd\u001b[0m\u001b[1;33m.\u001b[0m\u001b[0mDataFrame\u001b[0m\u001b[1;33m(\u001b[0m\u001b[0mX\u001b[0m\u001b[1;33m)\u001b[0m\u001b[1;33m\u001b[0m\u001b[1;33m\u001b[0m\u001b[0m\n\u001b[0m",
      "\u001b[1;31mNameError\u001b[0m: name 'X' is not defined"
     ]
    }
   ],
   "source": [
    "import pandas as pd\n",
    "pd.DataFrame(X)"
   ]
  },
  {
   "cell_type": "markdown",
   "id": "e19bc74f",
   "metadata": {},
   "source": [
    "### Setup Dataset"
   ]
  },
  {
   "cell_type": "code",
   "execution_count": 3,
   "id": "679a431a",
   "metadata": {
    "scrolled": false
   },
   "outputs": [],
   "source": [
    "nsample = 10000\n",
    "sig = 0.5\n",
    "x = np.linspace(0, 20, nsample)\n",
    "X = np.column_stack((x, np.ones(nsample)))\n",
    "beta = [5, 3]\n",
    "y_true = np.dot(X, beta)"
   ]
  },
  {
   "cell_type": "code",
   "execution_count": 4,
   "id": "965e57e8",
   "metadata": {
    "scrolled": true
   },
   "outputs": [
    {
     "data": {
      "text/plain": [
       "-14"
      ]
     },
     "execution_count": 4,
     "metadata": {},
     "output_type": "execute_result"
    }
   ],
   "source": [
    "np.dot(np.array([1,4,6]), np.array([-4,2,-3]))"
   ]
  },
  {
   "cell_type": "code",
   "execution_count": 5,
   "id": "899a5282",
   "metadata": {},
   "outputs": [
    {
     "data": {
      "text/plain": [
       "array([-4,  2, -3])"
      ]
     },
     "execution_count": 5,
     "metadata": {},
     "output_type": "execute_result"
    }
   ],
   "source": [
    "np.array([-4,2,-3])"
   ]
  },
  {
   "cell_type": "markdown",
   "id": "063bc4fe",
   "metadata": {},
   "source": []
  },
  {
   "cell_type": "code",
   "execution_count": 6,
   "id": "62ed1af7",
   "metadata": {},
   "outputs": [],
   "source": [
    "nsample = 10000 # Number of sample (N)\n",
    "sig = 0.5 # \n",
    "x = np.linspace(0, 20, nsample) # Equally spaced data of length N\n",
    "\n",
    "X = np.column_stack((x, np.ones(nsample))) # Make data matrix phi(X): order (Nxd) = (10000x2)\n",
    "beta = [5, 3] # Parameters (w^T)\n",
    "\n",
    "#X = np.column_stack((x, x np.ones(nsample))) # ---> Multicollinearity: OLS breaks down without pseudo inverse\n",
    "#beta = [5, 2, 3]\n",
    "\n",
    "#X = np.column_stack((x, x**2, np.ones(nsample))) # ---> Batch Gradient Descent breaks down\n",
    "#beta = [5, 2, 3]\n",
    "\n",
    "#X = np.column_stack((x, x**2, np.sin(x), np.ones(nsample)))\n",
    "#beta = [5, 2, 7, 3]\n",
    "\n",
    "\n",
    "y_true = np.dot(X, beta) # dot product (Y = Xw)\n",
    "y = y_true + sig * np.random.normal(size=nsample) # Simulated y: error = sig*noise"
   ]
  },
  {
   "cell_type": "markdown",
   "id": "8c38fe74",
   "metadata": {},
   "source": [
    "### Train Test Split"
   ]
  },
  {
   "cell_type": "code",
   "execution_count": 7,
   "id": "e24f7d06",
   "metadata": {},
   "outputs": [
    {
     "name": "stdout",
     "output_type": "stream",
     "text": [
      "X_train:(9000, 2)\n",
      "y_train:(9000,)\n"
     ]
    }
   ],
   "source": [
    "# split the dataset into train and test sets\n",
    "X_train, X_test, y_train,y_test = train_test_split(X, y, test_size=0.1, shuffle=False)\n",
    "# print train and test set shapes\n",
    "print(f\"X_train:{X_train.shape}\\ny_train:{y_train.shape}\")"
   ]
  },
  {
   "cell_type": "markdown",
   "id": "fd154487",
   "metadata": {},
   "source": [
    "## Ordinary Least Squares"
   ]
  },
  {
   "cell_type": "code",
   "execution_count": 8,
   "id": "4bd72f62",
   "metadata": {},
   "outputs": [],
   "source": [
    "%matplotlib inline"
   ]
  },
  {
   "cell_type": "code",
   "execution_count": 9,
   "id": "1ba24da9",
   "metadata": {
    "scrolled": true
   },
   "outputs": [
    {
     "name": "stdout",
     "output_type": "stream",
     "text": [
      "                            OLS Regression Results                            \n",
      "==============================================================================\n",
      "Dep. Variable:                      y   R-squared:                       1.000\n",
      "Model:                            OLS   Adj. R-squared:                  1.000\n",
      "Method:                 Least Squares   F-statistic:                 2.419e+07\n",
      "Date:                Wed, 16 Mar 2022   Prob (F-statistic):               0.00\n",
      "Time:                        01:31:24   Log-Likelihood:                -6549.6\n",
      "No. Observations:                9000   AIC:                         1.310e+04\n",
      "Df Residuals:                    8998   BIC:                         1.312e+04\n",
      "Df Model:                           1                                         \n",
      "Covariance Type:            nonrobust                                         \n",
      "==============================================================================\n",
      "                 coef    std err          t      P>|t|      [0.025      0.975]\n",
      "------------------------------------------------------------------------------\n",
      "x1             4.9983      0.001   4918.240      0.000       4.996       5.000\n",
      "const          3.0095      0.011    284.950      0.000       2.989       3.030\n",
      "==============================================================================\n",
      "Omnibus:                        2.614   Durbin-Watson:                   2.047\n",
      "Prob(Omnibus):                  0.271   Jarque-Bera (JB):                2.646\n",
      "Skew:                          -0.037   Prob(JB):                        0.266\n",
      "Kurtosis:                       2.960   Cond. No.                         20.9\n",
      "==============================================================================\n",
      "\n",
      "Notes:\n",
      "[1] Standard Errors assume that the covariance matrix of the errors is correctly specified.\n"
     ]
    }
   ],
   "source": [
    "res = sm.OLS(y_train, X_train).fit()\n",
    "print(res.summary())"
   ]
  },
  {
   "cell_type": "code",
   "execution_count": 10,
   "id": "b77ae74d",
   "metadata": {},
   "outputs": [
    {
     "name": "stdout",
     "output_type": "stream",
     "text": [
      "Analytically computing the parameters:\n",
      "[4.99830701 3.00954289]\n"
     ]
    }
   ],
   "source": [
    "print(\"Analytically computing the parameters:\")\n",
    "print(np.linalg.inv(X_train.T@X_train)@X_train.T@y_train)"
   ]
  },
  {
   "cell_type": "code",
   "execution_count": 11,
   "id": "8ac73ac7",
   "metadata": {},
   "outputs": [
    {
     "name": "stdout",
     "output_type": "stream",
     "text": [
      "Parameters:  [4.99830701 3.00954289]\n",
      "Standard errors:  [0.00101628 0.01056166]\n",
      "R_squared value:  0.9996281523874483\n",
      "Testing Accuracy:0.9720566179979109\n"
     ]
    }
   ],
   "source": [
    "print(\"Parameters: \", res.params)\n",
    "print(\"Standard errors: \", res.bse)\n",
    "print(\"R_squared value: \", res.rsquared)\n",
    "print(\"Testing Accuracy:{}\".format(r2_score(res.predict(X_test), y_test)))"
   ]
  },
  {
   "cell_type": "code",
   "execution_count": 12,
   "id": "f71187e5",
   "metadata": {},
   "outputs": [
    {
     "data": {
      "text/plain": [
       "<matplotlib.legend.Legend at 0x1cc985a2f70>"
      ]
     },
     "execution_count": 12,
     "metadata": {},
     "output_type": "execute_result"
    },
    {
     "data": {
      "image/png": "[encoded data removed]",
      "text/plain": [
       "<Figure size 576x432 with 1 Axes>"
      ]
     },
     "metadata": {
      "needs_background": "light"
     },
     "output_type": "display_data"
    }
   ],
   "source": [
    "pred_ols = res.get_prediction()\n",
    "iv_l = pred_ols.summary_frame()[\"obs_ci_lower\"]\n",
    "iv_u = pred_ols.summary_frame()[\"obs_ci_upper\"]\n",
    "\n",
    "fig, ax = plt.subplots(figsize=(8, 6))\n",
    "\n",
    "ax.plot(x, y, \"o\", label=\"data\")\n",
    "ax.plot(x, y_true, \"b-\", label=\"True\")\n",
    "ax.plot(X_train[:, 0], res.fittedvalues, \"r--.\", label=\"OLS\")\n",
    "ax.plot(X_train[:, 0], iv_u, \"r--\")\n",
    "ax.plot(X_train[:, 0], iv_l, \"r--\")\n",
    "ax.legend(loc=\"best\")"
   ]
  },
  {
   "cell_type": "markdown",
   "id": "3369aa8c",
   "metadata": {},
   "source": [
    "## Gradient Descent"
   ]
  },
  {
   "cell_type": "code",
   "execution_count": 13,
   "id": "0352803a",
   "metadata": {},
   "outputs": [],
   "source": [
    "import numpy as np\n",
    "import matplotlib.pyplot as plt\n",
    "\n",
    "class Regressor():\n",
    "    def __init__(self, learning_rate=0.01, tol=0.01, seed=None,normalize=False):\n",
    "        self.W = None\n",
    "        self.b = None\n",
    "        self.__lr = learning_rate\n",
    "        self.__tol = tol\n",
    "        self.__length = None\n",
    "        self.__normalize = normalize\n",
    "        self.__m = None\n",
    "        self.__costs = []\n",
    "        self.__iterations = []\n",
    "        self.__ws = []\n",
    "        self.__bs = []\n",
    "        np.random.seed(seed if seed is not None else np.random.randint(100))\n",
    "\n",
    "    def __initialize_weights_and_bias(self):\n",
    "        self.W = np.random.randn(self.__length) #(n,1)\n",
    "        self.b = 0\n",
    "        self.__ws.append(self.W)\n",
    "        self.__bs.append(self.b)\n",
    "\n",
    "    def __computeCost(self,h,Y):\n",
    "        loss = np.square(h-Y)\n",
    "        cost = np.sum(loss)/(2*self.__m)\n",
    "        return cost\n",
    "\n",
    "    def __optimize(self,X,Y):\n",
    "        h = np.dot(X,self.W)+self.b\n",
    "        dW = np.dot( X.T, (h-Y) ) / self.__m\n",
    "        db = np.sum( h-Y )  / self.__m\n",
    "        self.W = self.W - self.__lr*dW\n",
    "        self.b = self.b - self.__lr*db\n",
    "\n",
    "    def __normalizeX(self,X):return (X-self.__mean) / (self.__std)\n",
    "\n",
    "    def fit(self, X, y, verbose=True):\n",
    "        if self.__normalize:\n",
    "            self.__mean, self.__std = X.mean(axis=0), X.std(axis=0)\n",
    "            X = self.__normalizeX(X)\n",
    "        self.__m,self.__length = X.shape\n",
    "        self.__initialize_weights_and_bias()\n",
    "        last_cost,i = float('inf'),0\n",
    "        while True:\n",
    "            h = np.dot(X,self.W)+self.b\n",
    "            cost = self.__computeCost(h,y)\n",
    "            if verbose: print(f\"Iteration: {i}, Cost: {cost:.3f}\")\n",
    "            self.__optimize(X,y)\n",
    "            if last_cost-cost < self.__tol: break\n",
    "            else: last_cost,i = cost,i+1\n",
    "            self.__costs.append(cost)\n",
    "            self.__iterations.append(i)\n",
    "\n",
    "    def predict(self,X):\n",
    "\n",
    "        if self.__normalize: X = self.__normalizeX(X)\n",
    "        return np.dot(X,self.W)+self.b\n",
    "    \n",
    "    def seq_fit(self, X, y, verbose=True):\n",
    "        if self.__normalize:\n",
    "            self.__mean, self.__std = X.mean(axis=0), X.std(axis=0)\n",
    "            X = self.__normalizeX(X)\n",
    "        self.__m,self.__length = X.shape\n",
    "        self.__initialize_weights_and_bias()\n",
    "        last_cost,j = float('inf'),0\n",
    "        while True:\n",
    "            cost=0\n",
    "            for i in range(len(X)):\n",
    "                h = np.dot(X[i],self.W)+self.b\n",
    "                cost += self.__computeCost(h,y[i])\n",
    "                self.__optimize(X[i],y[i])\n",
    "\n",
    "            if verbose: print(f\"Iteration: {j}, Cost: {cost:.3f}\")\n",
    "            if last_cost-cost < self.__tol: break\n",
    "            else: last_cost,j = cost,j+1\n",
    "            self.__costs.append(cost)\n",
    "            self.__iterations.append(j)     \n",
    "\n",
    "    def plot(self,figsize=(7,5)):\n",
    "        plt.figure(figsize=figsize)\n",
    "        plt.plot(self.__iterations,self.__costs)\n",
    "        plt.xlabel('Iterations')\n",
    "        plt.ylabel('Cost')\n",
    "        plt.title(\"Iterations vs Cost\")\n",
    "        plt.show()\n",
    "\n",
    "    def score(self,X,y):\n",
    "        return 1-(np.sum(((y-self.predict(X))**2))/np.sum((y-np.mean(y))**2))"
   ]
  },
  {
   "cell_type": "markdown",
   "id": "c7f2c03c",
   "metadata": {},
   "source": [
    "### Batch Gradient Descent"
   ]
  },
  {
   "cell_type": "code",
   "execution_count": 14,
   "id": "5ecb0de6",
   "metadata": {
    "scrolled": true
   },
   "outputs": [
    {
     "name": "stdout",
     "output_type": "stream",
     "text": [
      "X_train:(9000, 2)\n",
      "y_train:(9000,)\n",
      "Iteration: 0, Cost: 1133.978\n",
      "Iteration: 1, Cost: 10.989\n",
      "Iteration: 2, Cost: 0.826\n",
      "Iteration: 3, Cost: 0.728\n",
      "Iteration: 4, Cost: 0.722\n",
      "Train Score: 0.998024419080393\n",
      "Test Score:  0.7941780353335289\n"
     ]
    },
    {
     "data": {
      "image/png": "[encoded data removed]",
      "text/plain": [
       "<Figure size 504x360 with 1 Axes>"
      ]
     },
     "metadata": {
      "needs_background": "light"
     },
     "output_type": "display_data"
    }
   ],
   "source": [
    "print(f\"X_train:{X_train.shape}\\ny_train:{y_train.shape}\")\n",
    "\n",
    "batch_regressor = Regressor(normalize=False)\n",
    "batch_regressor.fit(X_train,y_train)\n",
    "\n",
    "train_score = r2_score(batch_regressor.predict(X_train),y_train)\n",
    "test_score = r2_score(batch_regressor.predict(X_test),y_test)\n",
    "\n",
    "print(\"Train Score:\", train_score)\n",
    "print(\"Test Score: \",test_score)\n",
    "batch_regressor.plot()"
   ]
  },
  {
   "cell_type": "markdown",
   "id": "115f42ef",
   "metadata": {},
   "source": [
    "### Sequential Gradient Descent"
   ]
  },
  {
   "cell_type": "code",
   "execution_count": 15,
   "id": "3c33af4f",
   "metadata": {
    "scrolled": true
   },
   "outputs": [
    {
     "name": "stdout",
     "output_type": "stream",
     "text": [
      "X_train:(9000, 2)\n",
      "y_train:(9000,)\n",
      "Iteration: 0, Cost: 1139.023\n",
      "Iteration: 1, Cost: 131.013\n",
      "Iteration: 2, Cost: 16.473\n",
      "Iteration: 3, Cost: 3.062\n",
      "Iteration: 4, Cost: 1.357\n",
      "Iteration: 5, Cost: 1.093\n",
      "Iteration: 6, Cost: 1.034\n",
      "Iteration: 7, Cost: 1.012\n",
      "Iteration: 8, Cost: 1.000\n",
      "Iteration: 9, Cost: 0.990\n",
      "Train Score: 0.9972095502271989\n",
      "Test Score:  0.8350120351378647\n"
     ]
    },
    {
     "data": {
      "image/png": "[encoded data removed]",
      "text/plain": [
       "<Figure size 504x360 with 1 Axes>"
      ]
     },
     "metadata": {
      "needs_background": "light"
     },
     "output_type": "display_data"
    }
   ],
   "source": [
    "print(f\"X_train:{X_train.shape}\\ny_train:{y_train.shape}\")\n",
    "\n",
    "seq_regressor = Regressor(normalize=False)\n",
    "seq_regressor.seq_fit(X_train,y_train)\n",
    "\n",
    "train_score = r2_score(seq_regressor.predict(X_train),y_train)\n",
    "test_score = r2_score(seq_regressor.predict(X_test),y_test)\n",
    "\n",
    "print(\"Train Score:\", train_score)\n",
    "print(\"Test Score: \",test_score)\n",
    "seq_regressor.plot()"
   ]
  },
  {
   "cell_type": "code",
   "execution_count": 12,
   "id": "705e1614",
   "metadata": {},
   "outputs": [
    {
     "data": {
      "text/plain": [
       "<matplotlib.legend.Legend at 0x7fd4b0897280>"
      ]
     },
     "execution_count": 12,
     "metadata": {},
     "output_type": "execute_result"
    },
    {
     "data": {
      "image/png": "[encoded data removed]",
      "text/plain": [
       "<Figure size 576x432 with 1 Axes>"
      ]
     },
     "metadata": {
      "needs_background": "light"
     },
     "output_type": "display_data"
    }
   ],
   "source": [
    "fig, ax = plt.subplots(figsize=(8, 6))\n",
    "ax.plot(x, y, \"o\", label=\"data\")\n",
    "ax.plot(x, y_true, \"b-\", label=\"True\")\n",
    "ax.plot(X_train[:, 0], seq_regressor.predict(X_train), \"r--.\", label=\"OLS\")\n",
    "ax.legend(loc=\"best\")"
   ]
  }
 ],
 "metadata": {
  "kernelspec": {
   "display_name": "Python 3 (ipykernel)",
   "language": "python",
   "name": "python3"
  },
  "language_info": {
   "codemirror_mode": {
    "name": "ipython",
    "version": 3
   },
   "file_extension": ".py",
   "mimetype": "text/x-python",
   "name": "python",
   "nbconvert_exporter": "python",
   "pygments_lexer": "ipython3",
   "version": "3.9.7"
  }
 },
 "nbformat": 4,
 "nbformat_minor": 5
}

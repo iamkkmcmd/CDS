{
 "cells": [
  {
   "cell_type": "markdown",
   "id": "b0204ff3",
   "metadata": {},
   "source": [
    "#### Import modules"
   ]
  },
  {
   "cell_type": "code",
   "execution_count": 1,
   "id": "7219b6d1",
   "metadata": {},
   "outputs": [],
   "source": [
    "import math\n",
    "import pandas as pd\n",
    "import numpy as np\n",
    "import matplotlib.pyplot as plt\n",
    "from scipy.constants import golden\n",
    "from scipy.optimize import minimize_scalar"
   ]
  },
  {
   "cell_type": "markdown",
   "id": "8d0709ca",
   "metadata": {},
   "source": [
    "> ### 1.(a)"
   ]
  },
  {
   "cell_type": "markdown",
   "id": "0d99fd52",
   "metadata": {},
   "source": [
    "#### Define function"
   ]
  },
  {
   "cell_type": "code",
   "execution_count": 2,
   "id": "3cd5e2c9",
   "metadata": {},
   "outputs": [],
   "source": [
    "def f1(x):\n",
    "    return x**2 + 2*x"
   ]
  },
  {
   "cell_type": "markdown",
   "id": "766c1cff",
   "metadata": {},
   "source": [
    "#### Define the fibonacci search function"
   ]
  },
  {
   "cell_type": "code",
   "execution_count": 22,
   "id": "c0aa34b3",
   "metadata": {},
   "outputs": [],
   "source": [
    "def fibonacci_search(f, a, b, n, ep = 0.01):\n",
    "    # Initialization of lists\n",
    "    la = []; lb = []; l = []; m = []; fl = []; fm = []\n",
    "    \n",
    "    s = (1-math.sqrt(5))/(1+math.sqrt(5))\n",
    "    rho = 1/(golden*(1-s**(n+1))/(1-s**n))\n",
    "    d = (rho*b) + ((1-rho)*a)\n",
    "    yd = f(d)\n",
    "    \n",
    "    for i in range(n-1):\n",
    "        if i == n-1:\n",
    "            c = ep*a + (1-ep)*d\n",
    "        else:\n",
    "            c = rho*a + (1-rho)*b\n",
    "        yc = f(c)\n",
    "        # Append all informations\n",
    "        la.append(a); lb.append(b); l.append(c); m.append(d)\n",
    "        fl.append(yc); fm.append(yd)\n",
    "        if yc < yd:\n",
    "            b, d, yd = d, c, yc\n",
    "        else:\n",
    "            a, b = b, c\n",
    "        rho = 1/(golden*(1-s**(n-i+1))/(1-s**(n-i)))\n",
    "    # Dataframe\n",
    "    tab = pd.DataFrame(list(zip(la, lb, l, m, fl, fm)), index = np.arange(1,n,1), columns = ['a_k', 'b_k', 'lambda', 'mu', 'f(lambda)', 'f(mu)'])\n",
    "    # Returning left-right point and table\n",
    "    if a < b:\n",
    "        return (a, b, tab)\n",
    "    else:\n",
    "        return(b, a, tab)"
   ]
  },
  {
   "cell_type": "code",
   "execution_count": 23,
   "id": "412beb71",
   "metadata": {},
   "outputs": [],
   "source": [
    "left_fs, right_fs, tab = fibonacci_search(f = f1, a = -3, b = 5, n = 20)"
   ]
  },
  {
   "cell_type": "markdown",
   "id": "20f6808c",
   "metadata": {},
   "source": [
    "#### Optima"
   ]
  },
  {
   "cell_type": "code",
   "execution_count": 24,
   "id": "85fe276c",
   "metadata": {},
   "outputs": [
    {
     "data": {
      "text/plain": [
       "-0.9998870723231915"
      ]
     },
     "execution_count": 24,
     "metadata": {},
     "output_type": "execute_result"
    }
   ],
   "source": [
    "(left_fs+right_fs)/2"
   ]
  },
  {
   "cell_type": "code",
   "execution_count": 25,
   "id": "dae77d28",
   "metadata": {
    "scrolled": true
   },
   "outputs": [
    {
     "data": {
      "text/html": [
       "<div>\n",
       "<style scoped>\n",
       "    .dataframe tbody tr th:only-of-type {\n",
       "        vertical-align: middle;\n",
       "    }\n",
       "\n",
       "    .dataframe tbody tr th {\n",
       "        vertical-align: top;\n",
       "    }\n",
       "\n",
       "    .dataframe thead th {\n",
       "        text-align: right;\n",
       "    }\n",
       "</style>\n",
       "<table border=\"1\" class=\"dataframe\">\n",
       "  <thead>\n",
       "    <tr style=\"text-align: right;\">\n",
       "      <th></th>\n",
       "      <th>a_k</th>\n",
       "      <th>b_k</th>\n",
       "      <th>lambda</th>\n",
       "      <th>mu</th>\n",
       "      <th>f(lambda)</th>\n",
       "      <th>f(mu)</th>\n",
       "    </tr>\n",
       "  </thead>\n",
       "  <tbody>\n",
       "    <tr>\n",
       "      <th>1</th>\n",
       "      <td>-3.000000</td>\n",
       "      <td>5.000000</td>\n",
       "      <td>0.055728</td>\n",
       "      <td>1.944272</td>\n",
       "      <td>0.114562</td>\n",
       "      <td>7.668737</td>\n",
       "    </tr>\n",
       "    <tr>\n",
       "      <th>2</th>\n",
       "      <td>-3.000000</td>\n",
       "      <td>1.944272</td>\n",
       "      <td>-1.111456</td>\n",
       "      <td>0.055728</td>\n",
       "      <td>-0.987578</td>\n",
       "      <td>0.114562</td>\n",
       "    </tr>\n",
       "    <tr>\n",
       "      <th>3</th>\n",
       "      <td>-3.000000</td>\n",
       "      <td>0.055728</td>\n",
       "      <td>-1.832816</td>\n",
       "      <td>-1.111456</td>\n",
       "      <td>-0.306418</td>\n",
       "      <td>-0.987578</td>\n",
       "    </tr>\n",
       "    <tr>\n",
       "      <th>4</th>\n",
       "      <td>0.055728</td>\n",
       "      <td>-1.832816</td>\n",
       "      <td>-0.665631</td>\n",
       "      <td>-1.111456</td>\n",
       "      <td>-0.888198</td>\n",
       "      <td>-0.987578</td>\n",
       "    </tr>\n",
       "    <tr>\n",
       "      <th>5</th>\n",
       "      <td>-1.832816</td>\n",
       "      <td>-0.665631</td>\n",
       "      <td>-1.386991</td>\n",
       "      <td>-1.111456</td>\n",
       "      <td>-0.850238</td>\n",
       "      <td>-0.987578</td>\n",
       "    </tr>\n",
       "    <tr>\n",
       "      <th>6</th>\n",
       "      <td>-0.665631</td>\n",
       "      <td>-1.386991</td>\n",
       "      <td>-0.941166</td>\n",
       "      <td>-1.111456</td>\n",
       "      <td>-0.996539</td>\n",
       "      <td>-0.987578</td>\n",
       "    </tr>\n",
       "    <tr>\n",
       "      <th>7</th>\n",
       "      <td>-0.665631</td>\n",
       "      <td>-1.111456</td>\n",
       "      <td>-0.835921</td>\n",
       "      <td>-0.941166</td>\n",
       "      <td>-0.973078</td>\n",
       "      <td>-0.996539</td>\n",
       "    </tr>\n",
       "    <tr>\n",
       "      <th>8</th>\n",
       "      <td>-1.111456</td>\n",
       "      <td>-0.835921</td>\n",
       "      <td>-1.006211</td>\n",
       "      <td>-0.941166</td>\n",
       "      <td>-0.999961</td>\n",
       "      <td>-0.996539</td>\n",
       "    </tr>\n",
       "    <tr>\n",
       "      <th>9</th>\n",
       "      <td>-1.111456</td>\n",
       "      <td>-0.941166</td>\n",
       "      <td>-1.046412</td>\n",
       "      <td>-1.006211</td>\n",
       "      <td>-0.997846</td>\n",
       "      <td>-0.999961</td>\n",
       "    </tr>\n",
       "  </tbody>\n",
       "</table>\n",
       "</div>"
      ],
      "text/plain": [
       "        a_k       b_k    lambda        mu  f(lambda)     f(mu)\n",
       "1 -3.000000  5.000000  0.055728  1.944272   0.114562  7.668737\n",
       "2 -3.000000  1.944272 -1.111456  0.055728  -0.987578  0.114562\n",
       "3 -3.000000  0.055728 -1.832816 -1.111456  -0.306418 -0.987578\n",
       "4  0.055728 -1.832816 -0.665631 -1.111456  -0.888198 -0.987578\n",
       "5 -1.832816 -0.665631 -1.386991 -1.111456  -0.850238 -0.987578\n",
       "6 -0.665631 -1.386991 -0.941166 -1.111456  -0.996539 -0.987578\n",
       "7 -0.665631 -1.111456 -0.835921 -0.941166  -0.973078 -0.996539\n",
       "8 -1.111456 -0.835921 -1.006211 -0.941166  -0.999961 -0.996539\n",
       "9 -1.111456 -0.941166 -1.046412 -1.006211  -0.997846 -0.999961"
      ]
     },
     "execution_count": 25,
     "metadata": {},
     "output_type": "execute_result"
    }
   ],
   "source": [
    "tab[:9]"
   ]
  },
  {
   "cell_type": "markdown",
   "id": "ccf29735",
   "metadata": {},
   "source": [
    "#### Interval lengths"
   ]
  },
  {
   "cell_type": "code",
   "execution_count": 7,
   "id": "3b15be32",
   "metadata": {
    "scrolled": true
   },
   "outputs": [
    {
     "data": {
      "text/plain": [
       "1     8.000000\n",
       "2     4.944272\n",
       "3     3.055728\n",
       "4     1.888544\n",
       "5     1.167184\n",
       "6     0.721360\n",
       "7     0.445825\n",
       "8     0.275535\n",
       "9     0.170290\n",
       "10    0.105245\n",
       "11    0.065044\n",
       "12    0.040201\n",
       "13    0.024843\n",
       "14    0.015358\n",
       "15    0.009486\n",
       "16    0.005872\n",
       "17    0.003614\n",
       "18    0.002258\n",
       "19    0.001355\n",
       "dtype: float64"
      ]
     },
     "execution_count": 7,
     "metadata": {},
     "output_type": "execute_result"
    }
   ],
   "source": [
    "len_fs = np.abs(tab.a - tab.b)\n",
    "len_fs"
   ]
  },
  {
   "cell_type": "markdown",
   "id": "e125238c",
   "metadata": {},
   "source": [
    "#### Plot the interval lengths"
   ]
  },
  {
   "cell_type": "code",
   "execution_count": 8,
   "id": "0cb3fe74",
   "metadata": {
    "scrolled": true
   },
   "outputs": [
    {
     "data": {
      "image/png": "[encoded data removed]",
      "text/plain": [
       "<Figure size 432x288 with 1 Axes>"
      ]
     },
     "metadata": {
      "needs_background": "light"
     },
     "output_type": "display_data"
    }
   ],
   "source": [
    "plt.plot([str(i) for i in range(1,20)], len_fs)\n",
    "plt.xlabel(\"Number of iteration\")\n",
    "plt.ylabel(\"Interval Length\")\n",
    "plt.title(\"Plot for Fibonacci Search\")\n",
    "plt.show()"
   ]
  },
  {
   "cell_type": "markdown",
   "id": "025d309f",
   "metadata": {},
   "source": [
    "> ### 1.(b)"
   ]
  },
  {
   "cell_type": "markdown",
   "id": "2e44f264",
   "metadata": {},
   "source": [
    "#### Golden Section Search"
   ]
  },
  {
   "cell_type": "code",
   "execution_count": 26,
   "id": "22662927",
   "metadata": {},
   "outputs": [],
   "source": [
    "def golden_section_search(f, a, b, n):\n",
    "    # Initialization of lists\n",
    "    la = []; lb = []; l = []; m = []; fl = []; fm = []\n",
    "    \n",
    "    rho = golden-1\n",
    "    d = (rho*b) + ((1-rho)*a)\n",
    "    yd = f(d)\n",
    "    \n",
    "    for i in range(n-1):\n",
    "        c = rho*a + (1-rho)*b\n",
    "        yc = f(c)\n",
    "        # Append all informations\n",
    "        la.append(a); lb.append(b); l.append(c); m.append(d)\n",
    "        fl.append(yc); fm.append(yd)\n",
    "        if yc < yd:\n",
    "            b, d, yd = d, c, yc\n",
    "        else:\n",
    "            a, b = b, c\n",
    "    # Dataframe\n",
    "    tab = pd.DataFrame(list(zip(la, lb, l, m, fl, fm)), index = np.arange(1,n,1), columns = ['a_k', 'b_k', 'lambda', 'mu', 'f(lambda)', 'f(mu)'])\n",
    "    # Returning left-right point and table\n",
    "    if a < b:\n",
    "        return (a, b, tab)\n",
    "    else:\n",
    "        return(b, a, tab)"
   ]
  },
  {
   "cell_type": "code",
   "execution_count": 27,
   "id": "5441daa9",
   "metadata": {},
   "outputs": [],
   "source": [
    "left_gs, right_gs, tab_gs = golden_section_search(f = f1, a = -3, b = 5, n = 20)"
   ]
  },
  {
   "cell_type": "code",
   "execution_count": 28,
   "id": "4af46011",
   "metadata": {},
   "outputs": [
    {
     "data": {
      "text/plain": [
       "-0.9999182873019831"
      ]
     },
     "execution_count": 28,
     "metadata": {},
     "output_type": "execute_result"
    }
   ],
   "source": [
    "(left_gs+right_gs)/2"
   ]
  },
  {
   "cell_type": "code",
   "execution_count": 29,
   "id": "bc4ba883",
   "metadata": {},
   "outputs": [
    {
     "data": {
      "text/html": [
       "<div>\n",
       "<style scoped>\n",
       "    .dataframe tbody tr th:only-of-type {\n",
       "        vertical-align: middle;\n",
       "    }\n",
       "\n",
       "    .dataframe tbody tr th {\n",
       "        vertical-align: top;\n",
       "    }\n",
       "\n",
       "    .dataframe thead th {\n",
       "        text-align: right;\n",
       "    }\n",
       "</style>\n",
       "<table border=\"1\" class=\"dataframe\">\n",
       "  <thead>\n",
       "    <tr style=\"text-align: right;\">\n",
       "      <th></th>\n",
       "      <th>a_k</th>\n",
       "      <th>b_k</th>\n",
       "      <th>lambda</th>\n",
       "      <th>mu</th>\n",
       "      <th>f(lambda)</th>\n",
       "      <th>f(mu)</th>\n",
       "    </tr>\n",
       "  </thead>\n",
       "  <tbody>\n",
       "    <tr>\n",
       "      <th>1</th>\n",
       "      <td>-3.000000</td>\n",
       "      <td>5.000000</td>\n",
       "      <td>0.055728</td>\n",
       "      <td>1.944272</td>\n",
       "      <td>0.114562</td>\n",
       "      <td>7.668737</td>\n",
       "    </tr>\n",
       "    <tr>\n",
       "      <th>2</th>\n",
       "      <td>-3.000000</td>\n",
       "      <td>1.944272</td>\n",
       "      <td>-1.111456</td>\n",
       "      <td>0.055728</td>\n",
       "      <td>-0.987578</td>\n",
       "      <td>0.114562</td>\n",
       "    </tr>\n",
       "    <tr>\n",
       "      <th>3</th>\n",
       "      <td>-3.000000</td>\n",
       "      <td>0.055728</td>\n",
       "      <td>-1.832816</td>\n",
       "      <td>-1.111456</td>\n",
       "      <td>-0.306418</td>\n",
       "      <td>-0.987578</td>\n",
       "    </tr>\n",
       "    <tr>\n",
       "      <th>4</th>\n",
       "      <td>0.055728</td>\n",
       "      <td>-1.832816</td>\n",
       "      <td>-0.665631</td>\n",
       "      <td>-1.111456</td>\n",
       "      <td>-0.888198</td>\n",
       "      <td>-0.987578</td>\n",
       "    </tr>\n",
       "    <tr>\n",
       "      <th>5</th>\n",
       "      <td>-1.832816</td>\n",
       "      <td>-0.665631</td>\n",
       "      <td>-1.386991</td>\n",
       "      <td>-1.111456</td>\n",
       "      <td>-0.850238</td>\n",
       "      <td>-0.987578</td>\n",
       "    </tr>\n",
       "    <tr>\n",
       "      <th>6</th>\n",
       "      <td>-0.665631</td>\n",
       "      <td>-1.386991</td>\n",
       "      <td>-0.941166</td>\n",
       "      <td>-1.111456</td>\n",
       "      <td>-0.996539</td>\n",
       "      <td>-0.987578</td>\n",
       "    </tr>\n",
       "    <tr>\n",
       "      <th>7</th>\n",
       "      <td>-0.665631</td>\n",
       "      <td>-1.111456</td>\n",
       "      <td>-0.835921</td>\n",
       "      <td>-0.941166</td>\n",
       "      <td>-0.973078</td>\n",
       "      <td>-0.996539</td>\n",
       "    </tr>\n",
       "    <tr>\n",
       "      <th>8</th>\n",
       "      <td>-1.111456</td>\n",
       "      <td>-0.835921</td>\n",
       "      <td>-1.006211</td>\n",
       "      <td>-0.941166</td>\n",
       "      <td>-0.999961</td>\n",
       "      <td>-0.996539</td>\n",
       "    </tr>\n",
       "    <tr>\n",
       "      <th>9</th>\n",
       "      <td>-1.111456</td>\n",
       "      <td>-0.941166</td>\n",
       "      <td>-1.046411</td>\n",
       "      <td>-1.006211</td>\n",
       "      <td>-0.997846</td>\n",
       "      <td>-0.999961</td>\n",
       "    </tr>\n",
       "  </tbody>\n",
       "</table>\n",
       "</div>"
      ],
      "text/plain": [
       "        a_k       b_k    lambda        mu  f(lambda)     f(mu)\n",
       "1 -3.000000  5.000000  0.055728  1.944272   0.114562  7.668737\n",
       "2 -3.000000  1.944272 -1.111456  0.055728  -0.987578  0.114562\n",
       "3 -3.000000  0.055728 -1.832816 -1.111456  -0.306418 -0.987578\n",
       "4  0.055728 -1.832816 -0.665631 -1.111456  -0.888198 -0.987578\n",
       "5 -1.832816 -0.665631 -1.386991 -1.111456  -0.850238 -0.987578\n",
       "6 -0.665631 -1.386991 -0.941166 -1.111456  -0.996539 -0.987578\n",
       "7 -0.665631 -1.111456 -0.835921 -0.941166  -0.973078 -0.996539\n",
       "8 -1.111456 -0.835921 -1.006211 -0.941166  -0.999961 -0.996539\n",
       "9 -1.111456 -0.941166 -1.046411 -1.006211  -0.997846 -0.999961"
      ]
     },
     "execution_count": 29,
     "metadata": {},
     "output_type": "execute_result"
    }
   ],
   "source": [
    "tab_gs[:9]"
   ]
  },
  {
   "cell_type": "code",
   "execution_count": 13,
   "id": "d9d8a85b",
   "metadata": {},
   "outputs": [
    {
     "data": {
      "text/plain": [
       "1     8.000000\n",
       "2     4.944272\n",
       "3     3.055728\n",
       "4     1.888544\n",
       "5     1.167184\n",
       "6     0.721360\n",
       "7     0.445825\n",
       "8     0.275535\n",
       "9     0.170290\n",
       "10    0.105245\n",
       "11    0.065045\n",
       "12    0.040200\n",
       "13    0.024845\n",
       "14    0.015355\n",
       "15    0.009490\n",
       "16    0.005865\n",
       "17    0.003625\n",
       "18    0.002240\n",
       "19    0.001385\n",
       "dtype: float64"
      ]
     },
     "execution_count": 13,
     "metadata": {},
     "output_type": "execute_result"
    }
   ],
   "source": [
    "len_gs = np.abs(tab_gs.a - tab_gs.b)\n",
    "len_gs"
   ]
  },
  {
   "cell_type": "code",
   "execution_count": 14,
   "id": "f67f5caa",
   "metadata": {
    "scrolled": true
   },
   "outputs": [
    {
     "data": {
      "image/png": "[encoded data removed]",
      "text/plain": [
       "<Figure size 432x288 with 1 Axes>"
      ]
     },
     "metadata": {
      "needs_background": "light"
     },
     "output_type": "display_data"
    }
   ],
   "source": [
    "plt.plot([str(i) for i in range(1,20)], len_gs)\n",
    "plt.xlabel(\"Number of iteration\")\n",
    "plt.ylabel(\"Interval Length\")\n",
    "plt.title(\"Plot for Golden Section Search\")\n",
    "plt.show()"
   ]
  },
  {
   "cell_type": "markdown",
   "id": "8e7db740",
   "metadata": {},
   "source": [
    "> ### 1.(c)"
   ]
  },
  {
   "cell_type": "code",
   "execution_count": 15,
   "id": "7aa39d5a",
   "metadata": {
    "scrolled": true
   },
   "outputs": [
    {
     "data": {
      "text/plain": [
       "-0.9999999987444217"
      ]
     },
     "execution_count": 15,
     "metadata": {},
     "output_type": "execute_result"
    }
   ],
   "source": [
    "gs_ms = minimize_scalar(fun = f1, bracket = (-3, 5), method = \"golden\")\n",
    "gs_ms.x"
   ]
  },
  {
   "cell_type": "markdown",
   "id": "1681c9b8",
   "metadata": {},
   "source": [
    "> ### 2"
   ]
  },
  {
   "cell_type": "code",
   "execution_count": 16,
   "id": "c10cad74",
   "metadata": {},
   "outputs": [],
   "source": [
    "from scipy.optimize import line_search"
   ]
  },
  {
   "cell_type": "markdown",
   "id": "811b77ae",
   "metadata": {},
   "source": [
    "#### Define function and gradient"
   ]
  },
  {
   "cell_type": "code",
   "execution_count": 17,
   "id": "e51225ac",
   "metadata": {},
   "outputs": [],
   "source": [
    "def f2(x):\n",
    "    return x[0]**2 + x[0]*x[1] + x[1]**2\n",
    "def grad_f2(x):\n",
    "    a = 2*x[0] + x[1]\n",
    "    b = 2*x[1] + x[0]\n",
    "    return np.array([a,b])"
   ]
  },
  {
   "cell_type": "code",
   "execution_count": 18,
   "id": "20c004cb",
   "metadata": {},
   "outputs": [],
   "source": [
    "x_init = np.array([1,2])\n",
    "init_dir = np.array([-1,-1])\n",
    "c1 = 0.0001; c2 = 0.9\n",
    "max_step = 10; max_iter = 10\n",
    "reduc_fact = 0.5\n",
    "opt_ls = line_search(f = f2, myfprime = grad_f2, xk = x_init, pk = init_dir, c1 = c1, c2 = c2, amax = max_step,\n",
    "                     maxiter = max_iter)"
   ]
  },
  {
   "cell_type": "code",
   "execution_count": 19,
   "id": "5d6720f9",
   "metadata": {},
   "outputs": [],
   "source": [
    "alpha = opt_ls[0]\n",
    "opt = x_init + alpha*init_dir"
   ]
  },
  {
   "cell_type": "code",
   "execution_count": 20,
   "id": "20775524",
   "metadata": {},
   "outputs": [
    {
     "data": {
      "text/plain": [
       "(1.0, 2, 1, 1.0, 7.0, array([1., 2.]))"
      ]
     },
     "execution_count": 20,
     "metadata": {},
     "output_type": "execute_result"
    }
   ],
   "source": [
    "opt_ls"
   ]
  },
  {
   "cell_type": "code",
   "execution_count": 21,
   "id": "f1dcb600",
   "metadata": {},
   "outputs": [
    {
     "name": "stdout",
     "output_type": "stream",
     "text": [
      "Co-ordinate of the optima is: (0.0,1.0)\n"
     ]
    }
   ],
   "source": [
    "print(f\"Co-ordinate of the optima is: ({opt[0]},{opt[1]})\")"
   ]
  }
 ],
 "metadata": {
  "kernelspec": {
   "display_name": "Python 3",
   "language": "python",
   "name": "python3"
  },
  "language_info": {
   "codemirror_mode": {
    "name": "ipython",
    "version": 3
   },
   "file_extension": ".py",
   "mimetype": "text/x-python",
   "name": "python",
   "nbconvert_exporter": "python",
   "pygments_lexer": "ipython3",
   "version": "3.8.8"
  }
 },
 "nbformat": 4,
 "nbformat_minor": 5
}

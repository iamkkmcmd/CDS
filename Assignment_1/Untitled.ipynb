{
 "cells": [
  {
   "cell_type": "code",
   "execution_count": 1,
   "id": "604d1e5a",
   "metadata": {},
   "outputs": [],
   "source": [
    "import numpy as np\n",
    "import matplotlib.pyplot as plt"
   ]
  },
  {
   "cell_type": "markdown",
   "id": "a65f000c",
   "metadata": {},
   "source": [
    "### Solution of  problem - 1"
   ]
  },
  {
   "cell_type": "markdown",
   "id": "55a7c886",
   "metadata": {},
   "source": [
    "> #### (a)"
   ]
  },
  {
   "cell_type": "code",
   "execution_count": 5,
   "id": "fa751dce",
   "metadata": {},
   "outputs": [],
   "source": [
    "def theta(x):\n",
    "    return x**2+2*x"
   ]
  },
  {
   "cell_type": "code",
   "execution_count": 6,
   "id": "bc0ba48b",
   "metadata": {},
   "outputs": [],
   "source": [
    "\n",
    "a1 = -3; b1 = 5\n",
    "alpha = 0.618\n",
    "lamda"
   ]
  },
  {
   "cell_type": "code",
   "execution_count": null,
   "id": "d4652361",
   "metadata": {},
   "outputs": [],
   "source": [
    "# golden section method\n"
   ]
  },
  {
   "cell_type": "code",
   "execution_count": 11,
   "id": "52303ab3",
   "metadata": {},
   "outputs": [],
   "source": [
    "(a, b) = ([],[])"
   ]
  },
  {
   "cell_type": "code",
   "execution_count": 12,
   "id": "d3d2dbf2",
   "metadata": {},
   "outputs": [],
   "source": [
    "a.append(2)\n",
    "b.append(3)"
   ]
  },
  {
   "cell_type": "code",
   "execution_count": 13,
   "id": "0397621b",
   "metadata": {},
   "outputs": [
    {
     "data": {
      "text/plain": [
       "[2]"
      ]
     },
     "execution_count": 13,
     "metadata": {},
     "output_type": "execute_result"
    }
   ],
   "source": [
    "a"
   ]
  },
  {
   "cell_type": "code",
   "execution_count": 14,
   "id": "f0d9fb39",
   "metadata": {},
   "outputs": [
    {
     "data": {
      "text/plain": [
       "[3]"
      ]
     },
     "execution_count": 14,
     "metadata": {},
     "output_type": "execute_result"
    }
   ],
   "source": [
    "b"
   ]
  },
  {
   "cell_type": "code",
   "execution_count": 15,
   "id": "cc25a6e1",
   "metadata": {},
   "outputs": [
    {
     "data": {
      "text/plain": [
       "1.618033988749895"
      ]
     },
     "execution_count": 15,
     "metadata": {},
     "output_type": "execute_result"
    }
   ],
   "source": [
    "from scipy.constants import golden\n",
    "golden"
   ]
  },
  {
   "cell_type": "code",
   "execution_count": 17,
   "id": "ff8202b9",
   "metadata": {},
   "outputs": [
    {
     "data": {
      "text/plain": [
       "0.6180339887498948"
      ]
     },
     "execution_count": 17,
     "metadata": {},
     "output_type": "execute_result"
    }
   ],
   "source": [
    "1/golden"
   ]
  },
  {
   "cell_type": "code",
   "execution_count": null,
   "id": "728d1b37",
   "metadata": {},
   "outputs": [],
   "source": []
  }
 ],
 "metadata": {
  "kernelspec": {
   "display_name": "Python 3 (ipykernel)",
   "language": "python",
   "name": "python3"
  },
  "language_info": {
   "codemirror_mode": {
    "name": "ipython",
    "version": 3
   },
   "file_extension": ".py",
   "mimetype": "text/x-python",
   "name": "python",
   "nbconvert_exporter": "python",
   "pygments_lexer": "ipython3",
   "version": "3.9.7"
  }
 },
 "nbformat": 4,
 "nbformat_minor": 5
}
